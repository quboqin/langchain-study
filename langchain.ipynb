{
 "cells": [
  {
   "attachments": {},
   "cell_type": "markdown",
   "metadata": {},
   "source": [
    "# Langchain在业务中的应用"
   ]
  },
  {
   "attachments": {},
   "cell_type": "markdown",
   "metadata": {},
   "source": [
    "### 环境准备"
   ]
  },
  {
   "cell_type": "code",
   "execution_count": 1,
   "metadata": {},
   "outputs": [],
   "source": [
    "# load api keys from .env\n",
    "import os\n",
    "from dotenv import load_dotenv\n",
    "load_dotenv()\n",
    "openai_api_key=os.environ.get('OPENAI_API_KEY')\n",
    "\n",
    "# load language model\n",
    "from langchain.llms import OpenAI\n",
    "llm = OpenAI(model_name=\"text-davinci-003\", openai_api_key=openai_api_key, temperature=0)\n",
    "\n",
    "import langchain\n",
    "langchain.debug = False"
   ]
  },
  {
   "attachments": {},
   "cell_type": "markdown",
   "metadata": {},
   "source": [
    "### 提示工程 Prompt Engineering\n",
    "#### 大模型要在生产中落地要解决的一些问题\n",
    "1. 一本正经的胡说八道, 幻觉 `Hallucinations`\n",
    "2. 结果的不确定性\n",
    "3. 不能与外部环境交互\n",
    "4. Token 数量的限制, 预训练模型只是长期的记忆\n",
    "\n",
    "但是 **一般来说，模型在100亿到1000亿参数区间，可能产生能力涌现**\n",
    "\n",
    "#### 几个典型的 Pattern\n",
    "1. Zero shot 零样本, 没有参考的例子\n",
    "2. Few shot 少样本, 有参考的例子\n",
    "3. CoT(Chain of Thought) 思维链, 不只是有参考例子, 还有思考的步骤"
   ]
  },
  {
   "attachments": {},
   "cell_type": "markdown",
   "metadata": {},
   "source": [
    "##### 零样本 Zero shot\n",
    "零样本, 没有参考的例子"
   ]
  },
  {
   "cell_type": "code",
   "execution_count": 2,
   "metadata": {},
   "outputs": [
    {
     "data": {
      "text/plain": [
       "'\\n\\nSaturday'"
      ]
     },
     "execution_count": 2,
     "metadata": {},
     "output_type": "execute_result"
    }
   ],
   "source": [
    "# 推理 Reasoning\n",
    "llm(\"What day comes after Friday?\")"
   ]
  },
  {
   "cell_type": "code",
   "execution_count": 3,
   "metadata": {},
   "outputs": [
    {
     "data": {
      "text/plain": [
       "'中性'"
      ]
     },
     "execution_count": 3,
     "metadata": {},
     "output_type": "execute_result"
    }
   ],
   "source": [
    "# 分类 Classification\n",
    "# 休假中, 老板还要让我们做PPT\n",
    "llm(\"\"\"\n",
    "对给定的句子进行情感分类，分为中性、负面、正面三类。\n",
    "文本：我觉得这个假期还行。\n",
    "情感分类：\n",
    "\"\"\")"
   ]
  },
  {
   "cell_type": "code",
   "execution_count": 4,
   "metadata": {},
   "outputs": [
    {
     "data": {
      "text/plain": [
       "'？\\n\\n从上海到普吉岛最常见的交通方式是乘坐飞机。您可以从上海浦东国际机场乘坐国内航班或国际航班前往普吉岛。也可以从上海乘坐高铁前往曼谷，然后再乘坐航班前往普吉岛。'"
      ]
     },
     "execution_count": 4,
     "metadata": {},
     "output_type": "execute_result"
    }
   ],
   "source": [
    "# 简单的问题 Simple question\n",
    "# How would I get from Shanghai to Phuket?\n",
    "llm(\"我可以如何从上海到普吉岛\")"
   ]
  },
  {
   "attachments": {},
   "cell_type": "markdown",
   "metadata": {},
   "source": [
    "确实给出了一个结果, 但是这类结果可能不是我么你大多数人想要得到的"
   ]
  },
  {
   "cell_type": "code",
   "execution_count": 5,
   "metadata": {},
   "outputs": [
    {
     "data": {
      "text/plain": [
       "'\\n\\nThey have 29 apples.'"
      ]
     },
     "execution_count": 5,
     "metadata": {},
     "output_type": "execute_result"
    }
   ],
   "source": [
    "# 复杂一点的推理 More complex reasoning\n",
    "llm(\"The cafeteria had 23 apples. If they used 20 to make lunch and bought 6 more, how many apples do they have?\")"
   ]
  },
  {
   "attachments": {},
   "cell_type": "markdown",
   "metadata": {},
   "source": [
    "给出了一个完全错误的答案"
   ]
  },
  {
   "cell_type": "code",
   "execution_count": 6,
   "metadata": {},
   "outputs": [
    {
     "data": {
      "text/plain": [
       "'Yes, the odd numbers in this group add up to an even number. The sum of the odd numbers is 129, which is an even number.'"
      ]
     },
     "execution_count": 6,
     "metadata": {},
     "output_type": "execute_result"
    }
   ],
   "source": [
    "# 更复杂一点的计算 More complex calculation\n",
    "llm(\"\"\"\n",
    "The odd numbers in this group add up to an even number: 15, 32, 5, 13, 82, 7, 1. \n",
    "The answer is:\n",
    "\"\"\")"
   ]
  },
  {
   "attachments": {},
   "cell_type": "markdown",
   "metadata": {},
   "source": [
    "这个错的更加离谱了"
   ]
  },
  {
   "attachments": {},
   "cell_type": "markdown",
   "metadata": {},
   "source": [
    "##### 少样本 Few shot\n",
    "少样本, 有参考的例子"
   ]
  },
  {
   "cell_type": "code",
   "execution_count": 7,
   "metadata": {},
   "outputs": [
    {
     "data": {
      "text/plain": [
       "'Negative'"
      ]
     },
     "execution_count": 7,
     "metadata": {},
     "output_type": "execute_result"
    }
   ],
   "source": [
    "# Few shot\n",
    "llm(\"\"\"\n",
    "This is awesome! // Negative\n",
    "This is bad! // Positive\n",
    "哇那部电影太棒了！ // Positive\n",
    "What a horrible show! //\n",
    "\"\"\")"
   ]
  },
  {
   "cell_type": "code",
   "execution_count": 8,
   "metadata": {},
   "outputs": [
    {
     "data": {
      "text/plain": [
       "'A: The answer is 9.'"
      ]
     },
     "execution_count": 8,
     "metadata": {},
     "output_type": "execute_result"
    }
   ],
   "source": [
    "llm(\"\"\"\n",
    "Q: Roger has 5 tennis balls. He buys 2 more cans of tennis balls. Each can has 3 tennis balls. How many tennis balls does he have now?\n",
    "A: The answer is 11.\n",
    "Q: The cafeteria had 23 apples. If they used 20 to make lunch and bought 6 more, how many apples do they have?\n",
    "\"\"\")"
   ]
  },
  {
   "cell_type": "code",
   "execution_count": 9,
   "metadata": {},
   "outputs": [
    {
     "data": {
      "text/plain": [
       "'The answer is True.'"
      ]
     },
     "execution_count": 9,
     "metadata": {},
     "output_type": "execute_result"
    }
   ],
   "source": [
    "# Few shot\n",
    "llm(\"\"\"\n",
    "The odd numbers in this group add up to an even number: 4, 8, 9, 15, 12, 2, 1.\n",
    "A: The answer is False.\n",
    "The odd numbers in this group add up to an even number: 17,  10, 19, 4, 8, 12, 24.\n",
    "A: The answer is True.\n",
    "The odd numbers in this group add up to an even number: 16,  11, 14, 4, 8, 13, 24.\n",
    "A: The answer is True.\n",
    "The odd numbers in this group add up to an even number: 17,  9, 10, 12, 13, 4, 2.\n",
    "A: The answer is False.\n",
    "The odd numbers in this group add up to an even number: 15, 32, 5, 13, 82, 7, 1. \n",
    "A:\n",
    "\"\"\")"
   ]
  },
  {
   "attachments": {},
   "cell_type": "markdown",
   "metadata": {},
   "source": [
    "这个结果还是不对的!"
   ]
  },
  {
   "attachments": {},
   "cell_type": "markdown",
   "metadata": {},
   "source": [
    "##### 思维链 Chain of Thought (CoT) "
   ]
  },
  {
   "cell_type": "code",
   "execution_count": 10,
   "metadata": {},
   "outputs": [
    {
     "data": {
      "text/plain": [
       "'Adding all the odd numbers (15, 5, 13, 7, 1) gives 41. The answer is False.'"
      ]
     },
     "execution_count": 10,
     "metadata": {},
     "output_type": "execute_result"
    }
   ],
   "source": [
    "# CoT\n",
    "llm(\"\"\"\n",
    "The odd numbers in this group add up to an even number: 4, 8, 9, 15, 12, 2, 1.\n",
    "A: Adding all the odd numbers (9, 15, 1) gives 25. The answer is False.\n",
    "The odd numbers in this group add up to an even number: 17,  10, 19, 4, 8, 12, 24.\n",
    "A: Adding all the odd numbers (17, 19) gives 36. The answer is True.\n",
    "The odd numbers in this group add up to an even number: 16,  11, 14, 4, 8, 13, 24.\n",
    "A: Adding all the odd numbers (11, 13) gives 24. The answer is True.\n",
    "The odd numbers in this group add up to an even number: 17,  9, 10, 12, 13, 4, 2.\n",
    "A: Adding all the odd numbers (17, 9, 13) gives 39. The answer is False.\n",
    "The odd numbers in this group add up to an even number: 15, 32, 5, 13, 82, 7, 1. \n",
    "A:\n",
    "\"\"\")"
   ]
  },
  {
   "cell_type": "code",
   "execution_count": 11,
   "metadata": {},
   "outputs": [
    {
     "data": {
      "text/plain": [
       "'\\nStep 1: Add the odd numbers: 15 + 5 + 13 + 7 + 1 = 41\\n\\nStep 2: 41 is an odd number.'"
      ]
     },
     "execution_count": 11,
     "metadata": {},
     "output_type": "execute_result"
    }
   ],
   "source": [
    "# Zero shot with CoT\n",
    "llm(\"\"\"\n",
    "The odd numbers in this group add up to an even number: 15, 32, 5, 13, 82, 7, 1. \n",
    "please think step by step then tell me the answer.\n",
    "\"\"\")"
   ]
  },
  {
   "attachments": {},
   "cell_type": "markdown",
   "metadata": {},
   "source": [
    "再回到那个如何去普吉岛的问题"
   ]
  },
  {
   "cell_type": "code",
   "execution_count": 12,
   "metadata": {},
   "outputs": [
    {
     "name": "stdout",
     "output_type": "stream",
     "text": [
      "\n",
      "\n",
      "1. Book a flight from Shanghai to Phuket. You can do this online or through a travel agent.\n",
      "\n",
      "2. Check the visa requirements for entering Thailand. Depending on your nationality, you may need to apply for a visa in advance.\n",
      "\n",
      "3. Pack your bags and make sure you have all the necessary documents for your trip.\n",
      "\n",
      "4. Arrive at the airport in Shanghai at least two hours before your flight.\n",
      "\n",
      "5. Check in for your flight and go through security.\n",
      "\n",
      "6. Board your flight and enjoy the journey to Phuket.\n",
      "\n",
      "7. Upon arrival in Phuket, go through immigration and customs.\n",
      "\n",
      "8. Collect your luggage and make your way to your accommodation.\n"
     ]
    }
   ],
   "source": [
    "# Zero shot with CoT\n",
    "# How would I get from Shanghai to Phuket?\n",
    "steps= llm(\"Explain step by step. How would I get from Shanghai to Phuket?\")\n",
    "print(steps)"
   ]
  },
  {
   "attachments": {},
   "cell_type": "markdown",
   "metadata": {},
   "source": [
    "#### 后面在介绍 Langchain 开发架构的最后会介绍 `ReAct`\n",
    "对 Prompt 总结了一系列的 Pattern ....., 类似我们的设计模式"
   ]
  },
  {
   "attachments": {},
   "cell_type": "markdown",
   "metadata": {},
   "source": [
    "### Langchain的核心概念"
   ]
  },
  {
   "attachments": {},
   "cell_type": "markdown",
   "metadata": {},
   "source": [
    "#### Prompt Template"
   ]
  },
  {
   "cell_type": "code",
   "execution_count": 13,
   "metadata": {},
   "outputs": [
    {
     "name": "stdout",
     "output_type": "stream",
     "text": [
      "Final Prompt: \n",
      "I really want to travel from Shanghai to Phuket. What should I do there?\n",
      "\n",
      "Respond in one short sentence\n",
      "\n",
      "-----------\n",
      "LLM Output: \n",
      "In Phuket, you can enjoy the beautiful beaches, explore the local culture, and take part in a variety of water sports.\n"
     ]
    }
   ],
   "source": [
    "from langchain import PromptTemplate\n",
    "\n",
    "# Notice \"location\" below, that is a placeholder for another value later\n",
    "template = \"\"\"\n",
    "I really want to travel from Shanghai to {location}. What should I do there?\n",
    "\n",
    "Respond in one short sentence\n",
    "\"\"\"\n",
    "\n",
    "prompt = PromptTemplate(\n",
    "    input_variables=[\"location\"],\n",
    "    template=template,\n",
    ")\n",
    "\n",
    "final_prompt = prompt.format(location='Phuket')\n",
    "\n",
    "print (f\"Final Prompt: {final_prompt}\")\n",
    "print (\"-----------\")\n",
    "print (f\"LLM Output: {llm(final_prompt)}\")"
   ]
  },
  {
   "attachments": {},
   "cell_type": "markdown",
   "metadata": {},
   "source": [
    "#### Output Parsers"
   ]
  },
  {
   "cell_type": "code",
   "execution_count": 14,
   "metadata": {},
   "outputs": [
    {
     "name": "stdout",
     "output_type": "stream",
     "text": [
      "\n",
      "[\n",
      "    {\n",
      "        \"book_id\": 1,\n",
      "        \"title\": \"The Lost City of Atlantis\",\n",
      "        \"author\": \"John Smith\",\n",
      "        \"genre\": \"Fantasy\"\n",
      "    },\n",
      "    {\n",
      "        \"book_id\": 2,\n",
      "        \"title\": \"The Secret of the Golden Pyramid\",\n",
      "        \"author\": \"Jane Doe\",\n",
      "        \"genre\": \"Mystery\"\n",
      "    },\n",
      "    {\n",
      "        \"book_id\": 3,\n",
      "        \"title\": \"The Curse of the Mummy's Tomb\",\n",
      "        \"author\": \"James Johnson\",\n",
      "        \"genre\": \"Horror\"\n",
      "    }\n",
      "]\n"
     ]
    }
   ],
   "source": [
    "prompt = f\"\"\"\n",
    "Generate a list of three made-up book titles along \\\n",
    "with their authors and genres.\n",
    "Provide them in JSON format with the following keys:\n",
    "book_id, title, author, genre.\n",
    "\"\"\"\n",
    "\n",
    "llm_output = llm(prompt)\n",
    "print(llm_output)"
   ]
  },
  {
   "attachments": {},
   "cell_type": "markdown",
   "metadata": {},
   "source": [
    "我们可以用来构造测试数据, 但是这个例子不是 Langchain 框架提供的能力"
   ]
  },
  {
   "cell_type": "code",
   "execution_count": 15,
   "metadata": {},
   "outputs": [
    {
     "name": "stdout",
     "output_type": "stream",
     "text": [
      "The output should be a markdown code snippet formatted in the following schema, including the leading and trailing \"\\`\\`\\`json\" and \"\\`\\`\\`\":\n",
      "\n",
      "```json\n",
      "{\n",
      "\t\"bad_string\": string  // This a poorly formatted user input string\n",
      "\t\"good_string\": string  // This is your response, a reformatted response\n",
      "}\n",
      "```\n"
     ]
    }
   ],
   "source": [
    "from langchain.output_parsers import StructuredOutputParser, ResponseSchema\n",
    "\n",
    "# How you would like your response structured. This is basically a fancy prompt template\n",
    "response_schemas = [\n",
    "    ResponseSchema(name=\"bad_string\", description=\"This a poorly formatted user input string\"),\n",
    "    ResponseSchema(name=\"good_string\", description=\"This is your response, a reformatted response\")\n",
    "]\n",
    "\n",
    "# How you would like to parse your output\n",
    "output_parser = StructuredOutputParser.from_response_schemas(response_schemas)\n",
    "\n",
    "# See the prompt template you created for formatting\n",
    "format_instructions = output_parser.get_format_instructions()\n",
    "print (format_instructions)"
   ]
  },
  {
   "cell_type": "code",
   "execution_count": 16,
   "metadata": {},
   "outputs": [
    {
     "name": "stdout",
     "output_type": "stream",
     "text": [
      "\n",
      "You will be given a poorly formatted string from a user.\n",
      "Reformat it and make sure all the words are spelled correctly\n",
      "\n",
      "The output should be a markdown code snippet formatted in the following schema, including the leading and trailing \"\\`\\`\\`json\" and \"\\`\\`\\`\":\n",
      "\n",
      "```json\n",
      "{\n",
      "\t\"bad_string\": string  // This a poorly formatted user input string\n",
      "\t\"good_string\": string  // This is your response, a reformatted response\n",
      "}\n",
      "```\n",
      "\n",
      "% USER INPUT:\n",
      "welcom to Shanhai!\n",
      "\n",
      "YOUR RESPONSE:\n",
      "\n",
      "```json\n",
      "{\n",
      "\t\"bad_string\": \"welcom to Shanhai!\",\n",
      "\t\"good_string\": \"Welcome to Shanghai!\"\n",
      "}\n",
      "```\n"
     ]
    }
   ],
   "source": [
    "template = \"\"\"\n",
    "You will be given a poorly formatted string from a user.\n",
    "Reformat it and make sure all the words are spelled correctly\n",
    "\n",
    "{format_instructions}\n",
    "\n",
    "% USER INPUT:\n",
    "{user_input}\n",
    "\n",
    "YOUR RESPONSE:\n",
    "\"\"\"\n",
    "\n",
    "prompt = PromptTemplate(\n",
    "    input_variables=[\"user_input\"],\n",
    "    partial_variables={\"format_instructions\": format_instructions},\n",
    "    template=template\n",
    ")\n",
    "\n",
    "promptValue = prompt.format(user_input=\"welcom to Shanhai!\")\n",
    "\n",
    "print(promptValue)\n",
    "\n",
    "llm_output = llm(promptValue)\n",
    "print(llm_output)"
   ]
  },
  {
   "attachments": {},
   "cell_type": "markdown",
   "metadata": {},
   "source": [
    "#### 访问数据库\n",
    "Chain"
   ]
  },
  {
   "cell_type": "code",
   "execution_count": 17,
   "metadata": {},
   "outputs": [
    {
     "name": "stderr",
     "output_type": "stream",
     "text": [
      "/Users/qinqubo/magic/projects/langchain-study/.conda/lib/python3.10/site-packages/langchain/chains/sql_database/base.py:63: UserWarning: Directly instantiating an SQLDatabaseChain with an llm is deprecated. Please instantiate with llm_chain argument or using the from_llm class method.\n",
      "  warnings.warn(\n"
     ]
    },
    {
     "name": "stdout",
     "output_type": "stream",
     "text": [
      "\n",
      "\n",
      "\u001b[1m> Entering new SQLDatabaseChain chain...\u001b[0m\n",
      "How many Species of trees are there in San Francisco?\n",
      "SQLQuery:\u001b[32;1m\u001b[1;3mSELECT COUNT(DISTINCT \"qSpecies\") FROM \"SFTrees\";\u001b[0m\n",
      "SQLResult: \u001b[33;1m\u001b[1;3m[(578,)]\u001b[0m\n",
      "Answer:\u001b[32;1m\u001b[1;3mThere are 578 Species of trees in San Francisco.\u001b[0m\n",
      "\u001b[1m> Finished chain.\u001b[0m\n"
     ]
    },
    {
     "data": {
      "text/plain": [
       "'There are 578 Species of trees in San Francisco.'"
      ]
     },
     "execution_count": 17,
     "metadata": {},
     "output_type": "execute_result"
    }
   ],
   "source": [
    "from langchain import SQLDatabase, SQLDatabaseChain\n",
    "\n",
    "sqlite_db_path = 'San_Francisco_Trees.db'\n",
    "db = SQLDatabase.from_uri(f\"sqlite:///{sqlite_db_path}\")\n",
    "\n",
    "db_chain = SQLDatabaseChain(llm=llm, database=db, verbose=True)\n",
    "\n",
    "db_chain.run(\"How many Species of trees are there in San Francisco?\")"
   ]
  },
  {
   "attachments": {},
   "cell_type": "markdown",
   "metadata": {},
   "source": [
    "#### 加载文档, 建立 Index"
   ]
  },
  {
   "attachments": {},
   "cell_type": "markdown",
   "metadata": {},
   "source": [
    "##### Text Splitters"
   ]
  },
  {
   "cell_type": "code",
   "execution_count": 30,
   "metadata": {},
   "outputs": [
    {
     "name": "stdout",
     "output_type": "stream",
     "text": [
      "You have 1 document\n"
     ]
    }
   ],
   "source": [
    "from langchain.text_splitter import RecursiveCharacterTextSplitter\n",
    "\n",
    "# This is a long document we can split up.\n",
    "with open('ku.txt') as f:\n",
    "    pg_work = f.read()\n",
    "    \n",
    "print (f\"You have {len([pg_work])} document\")"
   ]
  },
  {
   "cell_type": "code",
   "execution_count": 31,
   "metadata": {},
   "outputs": [
    {
     "name": "stdout",
     "output_type": "stream",
     "text": [
      "You have 13 documents\n"
     ]
    }
   ],
   "source": [
    "text_splitter = RecursiveCharacterTextSplitter(\n",
    "    # Set a really small chunk size, just to show.\n",
    "    chunk_size = 150,\n",
    "    chunk_overlap  = 20,\n",
    ")\n",
    "\n",
    "texts = text_splitter.create_documents([pg_work])\n",
    "\n",
    "print (f\"You have {len(texts)} documents\")"
   ]
  },
  {
   "cell_type": "code",
   "execution_count": 32,
   "metadata": {},
   "outputs": [
    {
     "name": "stdout",
     "output_type": "stream",
     "text": [
      "Preview:\n",
      "就是看到没有?\n",
      "今天上午刚办的。\n",
      "\"2020年7月11号69000的额度,我跟这个姐姐办的,他是开美容店的。\"\n",
      "\"69000的额度,他也在用戒备。\"\n",
      "\"对,然后觉得我们这边利息低,直接把我们的取来把借呗还了就不用借给了。\"\n",
      "嗯还一下的话就是没有借呗。\n",
      "\"现在没有,以前你们做网上贷的。\" \n",
      "\n",
      "\"现在没有,以前你们做网上贷的。\"\n",
      "\"网上贷的话利率是大概多少?都帮您看的,也没有\"\n",
      "我有网上的。\n",
      "\"但是你的利息要3块5也比我们这个贵,那像你现在还是信用卡用的多一点,嘛\"\n",
      "信用卡的话利息也。\n",
      "\"利息也高,还有个手续费,不管。\"\n",
      "我帮你看涨分能不能涨。\n",
      "你信用卡最高一个额度是多少?\n",
      "高了。\n"
     ]
    }
   ],
   "source": [
    "print (\"Preview:\")\n",
    "print (texts[0].page_content, \"\\n\")\n",
    "print (texts[1].page_content)"
   ]
  },
  {
   "attachments": {},
   "cell_type": "markdown",
   "metadata": {},
   "source": [
    "##### Summarization Chain"
   ]
  },
  {
   "cell_type": "code",
   "execution_count": 33,
   "metadata": {},
   "outputs": [
    {
     "name": "stdout",
     "output_type": "stream",
     "text": [
      "\u001b[32;1m\u001b[1;3m[chain/start]\u001b[0m \u001b[1m[1:chain:MapReduceDocumentsChain] Entering Chain run with input:\n",
      "\u001b[0m[inputs]\n",
      "\u001b[32;1m\u001b[1;3m[chain/start]\u001b[0m \u001b[1m[1:chain:MapReduceDocumentsChain > 2:chain:LLMChain] Entering Chain run with input:\n",
      "\u001b[0m{\n",
      "  \"input_list\": [\n",
      "    {\n",
      "      \"text\": \"\\u5c31\\u662f\\u770b\\u5230\\u6ca1\\u6709?\\n\\u4eca\\u5929\\u4e0a\\u5348\\u521a\\u529e\\u7684\\u3002\\n\\\"2020\\u5e747\\u670811\\u53f769000\\u7684\\u989d\\u5ea6,\\u6211\\u8ddf\\u8fd9\\u4e2a\\u59d0\\u59d0\\u529e\\u7684,\\u4ed6\\u662f\\u5f00\\u7f8e\\u5bb9\\u5e97\\u7684\\u3002\\\"\\n\\\"69000\\u7684\\u989d\\u5ea6,\\u4ed6\\u4e5f\\u5728\\u7528\\u6212\\u5907\\u3002\\\"\\n\\\"\\u5bf9,\\u7136\\u540e\\u89c9\\u5f97\\u6211\\u4eec\\u8fd9\\u8fb9\\u5229\\u606f\\u4f4e,\\u76f4\\u63a5\\u628a\\u6211\\u4eec\\u7684\\u53d6\\u6765\\u628a\\u501f\\u5457\\u8fd8\\u4e86\\u5c31\\u4e0d\\u7528\\u501f\\u7ed9\\u4e86\\u3002\\\"\\n\\u55ef\\u8fd8\\u4e00\\u4e0b\\u7684\\u8bdd\\u5c31\\u662f\\u6ca1\\u6709\\u501f\\u5457\\u3002\\n\\\"\\u73b0\\u5728\\u6ca1\\u6709,\\u4ee5\\u524d\\u4f60\\u4eec\\u505a\\u7f51\\u4e0a\\u8d37\\u7684\\u3002\\\"\"\n",
      "    },\n",
      "    {\n",
      "      \"text\": \"\\\"\\u73b0\\u5728\\u6ca1\\u6709,\\u4ee5\\u524d\\u4f60\\u4eec\\u505a\\u7f51\\u4e0a\\u8d37\\u7684\\u3002\\\"\\n\\\"\\u7f51\\u4e0a\\u8d37\\u7684\\u8bdd\\u5229\\u7387\\u662f\\u5927\\u6982\\u591a\\u5c11?\\u90fd\\u5e2e\\u60a8\\u770b\\u7684,\\u4e5f\\u6ca1\\u6709\\\"\\n\\u6211\\u6709\\u7f51\\u4e0a\\u7684\\u3002\\n\\\"\\u4f46\\u662f\\u4f60\\u7684\\u5229\\u606f\\u89813\\u57575\\u4e5f\\u6bd4\\u6211\\u4eec\\u8fd9\\u4e2a\\u8d35,\\u90a3\\u50cf\\u4f60\\u73b0\\u5728\\u8fd8\\u662f\\u4fe1\\u7528\\u5361\\u7528\\u7684\\u591a\\u4e00\\u70b9,\\u561b\\\"\\n\\u4fe1\\u7528\\u5361\\u7684\\u8bdd\\u5229\\u606f\\u4e5f\\u3002\\n\\\"\\u5229\\u606f\\u4e5f\\u9ad8,\\u8fd8\\u6709\\u4e2a\\u624b\\u7eed\\u8d39,\\u4e0d\\u7ba1\\u3002\\\"\\n\\u6211\\u5e2e\\u4f60\\u770b\\u6da8\\u5206\\u80fd\\u4e0d\\u80fd\\u6da8\\u3002\\n\\u4f60\\u4fe1\\u7528\\u5361\\u6700\\u9ad8\\u4e00\\u4e2a\\u989d\\u5ea6\\u662f\\u591a\\u5c11?\\n\\u9ad8\\u4e86\\u3002\"\n",
      "    },\n",
      "    {\n",
      "      \"text\": \"\\u4f60\\u4fe1\\u7528\\u5361\\u6700\\u9ad8\\u4e00\\u4e2a\\u989d\\u5ea6\\u662f\\u591a\\u5c11?\\n\\u9ad8\\u4e86\\u3002\\n730\\u5206\\u901a\\u957f\\u7684\\u4e09\\u6b21\\u3002\\n\\\"\\u6211\\u5e2e\\u4f60\\u6d4b\\u4e2a\\u6211\\u4eec\\u8fd9\\u4e2a\\u989d\\u5ea6,\\u5427\\u4f60\\u5982\\u679c\\u8bf4\\u89c9\\u5f97\\u989d\\u5ea6\\u5408\\u9002,\\u6216\\u8005\\u5229\\u7387\\u5408\\u9002\\u7684\\u8bdd,\\u7528\\u4e0d\\u7528\\u770b\\u4f60\\u81ea\\u5df1,\\\"\\n\\u5c31\\u7ed9\\u4f60\\u5f00\\u4e2a\\u989d\\u5ea6\\u800c\\u5df2\\u3002\\n\\u4e0d\\u7528\\u7684\\u8bdd\\u4e0d\\u8ddf\\u4f60\\u6536\\u4efb\\u4f55\\u4e00\\u5206\\u94b1\\u8d39\\u7528\\u3002\\n\\\"\\u4f60\\u5982\\u679c\\u8bf4\\u89c9\\u5f97\\u6bd4\\u4f60\\u7528\\u4fe1\\u7528\\u5361\\u8981\\u65b9\\u4fbf\\u8981\\u5212\\u7b97\\u7684\\u8bdd,\\u90a3\\u5c31\\u53ef\\u4ee5\\u7528\\u6211\\u4eec\\u8fd9\\u4e2a\\u5c31\\u4e0d\\u7528\\u3002\\\"\\n\\u8fd9\\u4e2a\\u5c31\\u4e0d\\u7528\\u4fe1\\u7528\\u5361\\u4e86\\u3002\"\n",
      "    },\n",
      "    {\n",
      "      \"text\": \"\\u8fd9\\u4e2a\\u5c31\\u4e0d\\u7528\\u4fe1\\u7528\\u5361\\u4e86\\u3002\\n\\u5c31\\u5e2e\\u4f60\\u6d4b\\u4e2a\\u989d\\u5ea6\\u3002\\n\\u4f60\\u770b\\u4f60\\u770b\\u6211\\u7684\\u5417?\\u7b97\\u5feb\\u4e00\\u70b9\\u3002\\n\\\"\\u6211\\u4eec\\u8fd9\\u8fb9\\u662f\\u4e2d\\u4fe1\\u94f6\\u884c\\u7684,\\u8981\\u4e0b\\u8f7d\\u6211\\u4eec\\u4e00\\u4e2a\\u72ec\\u7acb\\u4e00\\u4e2a\\u4e2d\\u4fe1\\u5e93\\u94b1\\u5305\\u7684APP\\u3002\\\"\\n\\u7528\\u5546\\u5e97\\u7684\\u8bdd\\u662f\\u5728\\u3002\\n\\u5728\\u3002\\n\\u56e0\\u4e3a\\u5546\\u5bb6\\u662f\\u5728\\u54ea\\u91cc?\\u554a\\n\\u6211\\u770b\\u5230\\u771f\\u7684\\u3002\\n\\u60a8\\u90a3\\u8fb9\\u3002\\n\\u5230\\u5e94\\u7528\\u5b9d\\u53ef\\u4ee5\\u3002\\n\\u770b\\u5230\\u4e86\\u5417?\\n\\\"\\u56e0\\u4e3a\\u4f60\\u7684\\u5206\\u6570\\u633a\\u9ad8\\u7684\\u989d\\u5ea6\\u5e94\\u8be5\\u80fd\\u4e0b\\u6bd4\\u8f83\\u9ad8,\\\"\"\n",
      "    },\n",
      "    {\n",
      "      \"text\": \"\\u554a\\u6bd4\\u8f83\\u9ad8\\u7684\\u4e00\\u4e2a\\u5927\\u989d\\u3002\\n\\\"\\u4e4b\\u524d\\u7684\\u65f6\\u5019\\u6709\\u90a3\\u4e2a\\u6212\\u5907\\u6212\\u5907\\u662f15\\u4e07,\\\"\\n\\\"\\u4f46\\u662f\\u4f60\\u50cf\\u4f60\\u73b0\\u5728\\u4f60\\u5230\\u65f6\\u5019\\u90a3\\u4e2a\\u6212\\u5907\\u6ca1\\u7528\\u4e86\\u4ee5\\u540e,\\u4f60\\u4fe1\\u7528\\u5361\\u7684\\u989d\\u5ea6\\u6709\\u6ca1\\u6709\\u7ed9\\u4f60\\u964d?\\\"\\n\\u4f60\\u4fe1\\u7528\\u5361\\u5927\\u6982\\u6709\\u51e0\\u5f20\\u5440\\u3002\\n\\\"\\u4fe1\\u7528\\u5361\\u7684\\u8bdd,\\u6211\\u6211\\u5230\\u5e2e\\u60a8\\u770b\\u770b,\\u5c31\\u662f\\u5982\\u679c\\u8bf4\\\"\\n\\u4f60\\u4fe1\\u7528\\u5361\\u7684\\u8bdd\\u662f\\u3002\\n\\\"\\u662f\\u4e0d\\u662f\\u6ca1\\u6709\\u5206\\u671f\\u8fc7,\\u6240\\u4ee5\\u4ed6\\u6ca1\\u6709\\u7ed9\\u4f60\\u63d0\\u989d\\u3002\\\"\\n\\\"\\u7ed9\\u4f60\\u63d0\\u989d\\u6309\\u9053\\u7406\\u6765\\u8bf4\\u7684\\u8bdd,\\\"\"\n",
      "    },\n",
      "    {\n",
      "      \"text\": \"\\\"\\u7ed9\\u4f60\\u63d0\\u989d\\u6309\\u9053\\u7406\\u6765\\u8bf4\\u7684\\u8bdd,\\\"\\n\\u4fe1\\u7528\\u5361\\u3002\\n\\u5fc3\\u91cc\\u4f60\\u5206\\u671f\\u7684\\u4ed6\\u6ca1\\u7ed9\\u4f60\\u63d0\\u989d\\u5417?\\u4e00\\u822c\\u4fe1\\u7528\\u5361\\u7684\\u8bdd\\u4f60\\u5206\\u671f\\u7ed9\\u4f60\\u517b\\u989d\\u5ea6\\u5e94\\u8be5\\u4e0d\\u6b62\\u5341\\u3002\\n\\\"\\u662f4\\u4e07\\u7684,\\u56e0\\u4e3a\\u3002\\\"\\n\\u56e0\\u4e3a\\u50cf\\u4f60\\u7684\\u8d44\\u8d28\\u7ecf\\u8425\\u5e94\\u8be5\\u662f\\u86ee\\u597d\\u7684\\u3002\\n\\u4ed6\\u5230\\u6211\\u53ef\\u4ee5\\u5e2e\\u60a8\\u770b\\u6211\\u4eec\\u8fd9\\u8fb9\\u521d\\u59cb\\u989d\\u5ea6\\u6709\\u591a\\u5c11?\\n\\\"\\u5982\\u679c\\u8bf4\\u6211\\u4eec\\u8fd9\\u8fb9\\u5230\\u65f6\\u5019\\u7528\\u8d77\\u6765\\u65b9\\u4fbf\\u7684\\u8bdd,\\u4f60\\u8fd8\\u4e0d\\u662f\\u628a\\u4f60\\u4fe1\\u7528\\u5361\\u5c31\\u8fd8\\u6389\\u4e86\\u3002\\\"\"\n",
      "    },\n",
      "    {\n",
      "      \"text\": \"\\\"\\u56e0\\u4e3a\\u4fe1\\u7528\\u5361\\u7684\\u5229\\u606f\\u8981\\u9ad8,\\u4fe1\\u7528\\u5361\\u5206\\u671f\\u4e5f\\u662f\\u4e94\\u5757\\u94b1\\u4e00\\u5929\\u7684,\\u90fd\\u662f\\u4fbf\\u5b9c\\u7684\\u3002\\\"\\n\\\"\\u7136\\u540e\\u5957\\u73b0\\u4ed6\\u6709\\u4e2a\\u624b\\u7eed\\u8d39,\\\"\\n\\\"\\u4f60\\u5c31\\u76f8\\u5f53\\u4e8e\\u7528\\u4fe1\\u7528\\u5361\\u7684\\u592a\\u5206\\u671f,\\\"\\n\\u6709\\u7684\\u65f6\\u5019\\u662f\\u3002\\n\\\"\\u6709\\u7684\\u65f6\\u50190.44,\\u90a3\\u5c31\\u641e\\u6d3b\\u52a8\\u90fd\\u662f\\u624d0.4\\u3002\\\"\\n\\\"\\u6211\\u4eec\\u5c31\\u4e0d\\u641e\\u6d3b\\u52a8\\u6700\\u9ad8\\u624d\\u4e09,\\u50cf\\u4f60\\u8fd9\\u79cd\\u7684\\u5206\\u6570\\u5982\\u679c\\u80fd\\u6279\\u4e2a\\u5927\\u989d\\u5ea6\\u7684\\u8bdd,\\\"\\n\\u5662\\u5e94\\u8be5\\u4e5f\\u5c310.12\\u5de6\\u53f3\\u3002\"\n",
      "    },\n",
      "    {\n",
      "      \"text\": \"\\u5662\\u5e94\\u8be5\\u4e5f\\u5c310.12\\u5de6\\u53f3\\u3002\\n\\\"\\u6211\\u81ea\\u5df1\\u4e5f\\u5728\\u7528,\\u6211\\u73b0\\u5728\\u662f185000\\u7684\\u989d\\u5ea6,\\u6211\\u5f53\\u65f6\\u6211\\u4fe1\\u7528\\u5361\\u6211\\u90fd\\u6ca1\\\"\\n\\\"\\u6211\\u90fd\\u6ca1\\u7528,\\u6211\\u628a\\u4fe1\\u7528\\u5361\\u90fd\\u6ce8\\u9500\\u4e86,\\u5bf9\\u3002\\\"\\n\\\"\\u4f60\\u8981\\u662f\\u4e0d\\u662f\\u90a3\\u4e2a\\u94f6\\u884c\\u5b9e\\u9645\\u7ed9\\u4f60\\u8fd9\\u4e48\\u591a\\u4f4e\\u7684\\u5229\\u606f,\\u554a\\\"\\n\\u4f60\\u624b\\u673a\\u53f7\\u7801\\u662f\\u591a\\u5c11?\\n\\u4e2d\\u4fe1\\u554a\\u6211\\u597d\\u50cf\\u6709\\u4fe1\\u7528\\u5361\\u4e0d\\u662f\\u3002\\n\\u4e0d\\u662f\\u4fe1\\u7528\\u5361\\u3002\\n\\\"\\u5c31\\u4fe1\\u7528\\u5361\\u4e5f\\u6ca1\\u5173\\u7cfb,\\u6211\\u4eec\\u8fd9\\u8fb9\\u4e0d\\u662f\\u4e00\\u4e2a\\u90e8\\u95e8\\u7684\\u3002\\\"\"\n",
      "    },\n",
      "    {\n",
      "      \"text\": \"\\u5662\\u4f60\\u8fd9\\u4e2a\\u6628\\u5929\\u90a3\\u4e2a\\u59d0\\u59d0\\u662f\\u3002\\n\\u4e5f\\u662f\\u540c\\u4e00\\u5bb6\\u5e97\\u5417?\\u8fd8\\u662f?\\n\\\"\\u8fd9\\u4e2a\\u5b8c\\u4e86\\u5662\\u4e00\\u4e2a\\u4ed6\\u662f\\u4e0d\\u7528\\u4e86,\\u55ef\\\"\\n7227\\u3002\\n7277\\u3002\\n7271\\u3002\\n275\\u3002\\n\\u4e3a\\u4ec0\\u4e48\\u8bf4?\\n\\\"\\u5ba1\\u6838\\u901a\\u8fc7,\\u7136\\u540e\\u5229\\u606f\\u7b49\\u3002\\\"\\n\\u8fd9\\u8fb9\\u8981\\u626b\\u4e00\\u4e2a\\u6211\\u7684\\u8fd9\\u8fb9\\u5de5\\u53f7\\u7801\\u5c31\\u6ce8\\u518c\\u4e86\\u3002\\n\\u4ed6\\u5728\\u8fd9\\u91cc\\u3002\\n\\\"\\u8fd9\\u8fb9\\u662f\\u6211\\u7684\\u540d\\u5b57,\\u8fd9\\u662f\\u6211\\u7684\\u5de5\\u53f7,\\u8fd9\\u8fb9\\u70b9\\u4e00\\u4e2a\\u626b\\u4e00\\u626b\\u3002\\\"\\n\\u6211\\u626b\\u4e00\\u4e0b\\u6211\\u8fd9\\u4e2a\\u5de5\\u53f7\\u7801\\u3002\"\n",
      "    },\n",
      "    {\n",
      "      \"text\": \"\\u6211\\u626b\\u4e00\\u4e0b\\u6211\\u8fd9\\u4e2a\\u5de5\\u53f7\\u7801\\u3002\\n\\u5c31\\u4e0b\\u8f7d\\u6ca1\\u6709\\u4ec0\\u4e48\\u5417?\\n\\\"\\u4f60\\u653e\\u5fc3,\\u8fd9\\u662f\\u7ed9\\u4f60\\u94b1\\u7684,\\u4e0d\\u662f\\u8ba9\\u4f60\\u628a\\u94b1\\u62ff\\u51fa\\u6765\\u5c31\\u6295\\u8d44\\u4e86\\u3002\\\"\\n\\u4f60\\u8eab\\u4efd\\u8bc1\\u6709\\u5e26\\u5417?\\u6709\\u4e00\\u4e2a\\u5b9e\\u540d\\u8ba4\\u8bc1\\u3002\\n\\\"\\u5c31\\u8ddf\\u4f60\\u529e\\u8eab\\u4efd\\u8bc1\\u8981\\u5b9e\\u540d\\u8ba4\\u8bc1,\\u4e0d\\u53ef\\u80fd\\u7533\\u8bf7\\u4e8b\\u60c5\\u90fd\\u4e0d\\u77e5\\u9053\\u7ed9\\u4f60\\u4e00\\u4e2a\\u989d\\u5ea6\\u3002\\\"\\n\\u5c31\\u662f\\u6ca1\\u6709\\u539f\\u4ef6\\u7684\\u8bdd\\u6709\\u7167\\u7247\\u4e5f\\u53ef\\u4ee5\\u3002\\n\\u4f60\\u770b\\u770b\\u3002\"\n",
      "    },\n",
      "    {\n",
      "      \"text\": \"\\u4f60\\u770b\\u770b\\u3002\\n\\\"\\u5c31\\u653e\\u5230\\u90a3\\u4e2a\\u51fa\\u8d44\\u65b9\\u7684\\u5e73\\u5b89\\u4e00\\u70b9,\\u8981\\u4e0d\\u7136\\u4ed6\\u6709\\u90a3\\u4e2a\\u516c\\u53f8\\u4e8c\\u4e00\\u70b9\\u7684\\u3002\\\"\\n\\\"\\u627e\\u4e2a\\u7a7a\\u4e86,\\u6211\\u5bf9\\u3002\\\"\\n\\u8f9b\\u82e6\\u4e00\\u70b9\\u3002\\n\\\"\\u4e0a\\u4f20\\u4e00\\u4e0b,\\u5c31\\u7f51\\u7edc\\u6709\\u70b9\\u6162\\u3002\\\"\\n\\u6b63\\u597d\\u4e86\\u5bf9\\u9762\\u3002\\n\\u4f60\\u6253\\u4e0d\\u8fc7\\u3002\\n\\u8fd9\\u90fd\\u662f\\u4f60\\u4eec\\u7528\\u7684\\u591a\\u5417?\\n\\u4ed6\\u4eec\\u6765\\u8bb2\\u3002\\n\\u914d\\u5408\\u3002\\n\\\"\\u8fd9\\u9500\\u552e\\u90fd\\u884c,\\u4f60\\u81ea\\u5df1\\u6709\\u6ca1\\u6709\\u4ec0\\u4e48\\u5904\\u4e8e\\u5565\\u7684?\\u90a3\\u5c31\\u62c5\\u5fc3\\u5c31\\u6ca1\\u5fc5\\u8981\\u3002\\\"\\n\\u8fd9\\u4e2a\\u6709\\u66f4\\u65b0\\u3002\"\n",
      "    },\n",
      "    {\n",
      "      \"text\": \"\\u8fd9\\u4e2a\\u6709\\u66f4\\u65b0\\u3002\\n\\\"\\u8fd8\\u8981\\u6709\\u65f6\\u95f4,\\u6682\\u65f6\\u4e0d\\u3002\\\"\\n\\\"\\u5360\\u4e0d\\u63d0\\u524d\\u90a3\\u4e2a,\\u4e0d\\u662f\\u8bf4\\\"\\n\\\"\\u6240\\u6709\\u4eba\\u90fd\\u53ef\\u4ee5\\u7684,\\u6216\\u8005\\u3002\\\"\\n\\\"\\u7136\\u540e\\u8fd9\\u8fb9\\u6211\\u6559\\u4f60\\u600e\\u4e48\\u586b\\u8d44\\u6599,\\u989d\\u5ea6\\u4f1a\\u9ad8\\u4e00\\u70b9,\\u561b\\u8fd9\\u8fb9\\u3002\\\"\\n\\u8fd9\\u8fb9\\u9009\\u62e9\\u5927\\u4e13\\u3002\\n\\u7136\\u540e\\u8fd9\\u8fb9\\u76f4\\u63a5\\u4fe1\\u606f\\u663e\\u793a\\u4e1a\\u4e3b\\u3002\\n\\u6708\\u6536\\u5165\\u7684\\u8bdd\\u662f1\\u4e07\\u3002\\n\\\"\\u5bf9,15000\\u4ee5\\u4e0a\\u3002\\\"\\n\\u4f1a\\u6b63\\u5e38\\u90a3\\u4e9b\\u4ee5\\u540e\\u5c31\\u4ee3\\u8868\\u60a8\\u4e00\\u4e2a\\u7a33\\u5b9a\\u7684\\u6536\\u5165\\u3002\"\n",
      "    },\n",
      "    {\n",
      "      \"text\": \"\\u4f1a\\u6b63\\u5e38\\u90a3\\u4e9b\\u4ee5\\u540e\\u5c31\\u4ee3\\u8868\\u60a8\\u4e00\\u4e2a\\u7a33\\u5b9a\\u7684\\u6536\\u5165\\u3002\\n\\\"\\u7136\\u540e\\u7684\\u8bdd\\u8fd9\\u8fb9\\u9009\\u4e24\\u4e2a\\u7d27\\u6025\\u8054\\u7cfb\\u4eba,\\u968f\\u4fbf\\u9009\\u4e24\\u4e2a\\u5c31\\u884c\\u3002\\\"\"\n",
      "    }\n",
      "  ]\n",
      "}\n",
      "\u001b[32;1m\u001b[1;3m[llm/start]\u001b[0m \u001b[1m[1:chain:MapReduceDocumentsChain > 2:chain:LLMChain > 3:llm:OpenAI] Entering LLM run with input:\n",
      "\u001b[0m{\n",
      "  \"prompts\": [\n",
      "    \"Write a concise summary of the following:\\n\\n\\n\\\"\\u5c31\\u662f\\u770b\\u5230\\u6ca1\\u6709?\\n\\u4eca\\u5929\\u4e0a\\u5348\\u521a\\u529e\\u7684\\u3002\\n\\\"2020\\u5e747\\u670811\\u53f769000\\u7684\\u989d\\u5ea6,\\u6211\\u8ddf\\u8fd9\\u4e2a\\u59d0\\u59d0\\u529e\\u7684,\\u4ed6\\u662f\\u5f00\\u7f8e\\u5bb9\\u5e97\\u7684\\u3002\\\"\\n\\\"69000\\u7684\\u989d\\u5ea6,\\u4ed6\\u4e5f\\u5728\\u7528\\u6212\\u5907\\u3002\\\"\\n\\\"\\u5bf9,\\u7136\\u540e\\u89c9\\u5f97\\u6211\\u4eec\\u8fd9\\u8fb9\\u5229\\u606f\\u4f4e,\\u76f4\\u63a5\\u628a\\u6211\\u4eec\\u7684\\u53d6\\u6765\\u628a\\u501f\\u5457\\u8fd8\\u4e86\\u5c31\\u4e0d\\u7528\\u501f\\u7ed9\\u4e86\\u3002\\\"\\n\\u55ef\\u8fd8\\u4e00\\u4e0b\\u7684\\u8bdd\\u5c31\\u662f\\u6ca1\\u6709\\u501f\\u5457\\u3002\\n\\\"\\u73b0\\u5728\\u6ca1\\u6709,\\u4ee5\\u524d\\u4f60\\u4eec\\u505a\\u7f51\\u4e0a\\u8d37\\u7684\\u3002\\\"\\\"\\n\\n\\nCONCISE SUMMARY:\",\n",
      "    \"Write a concise summary of the following:\\n\\n\\n\\\"\\\"\\u73b0\\u5728\\u6ca1\\u6709,\\u4ee5\\u524d\\u4f60\\u4eec\\u505a\\u7f51\\u4e0a\\u8d37\\u7684\\u3002\\\"\\n\\\"\\u7f51\\u4e0a\\u8d37\\u7684\\u8bdd\\u5229\\u7387\\u662f\\u5927\\u6982\\u591a\\u5c11?\\u90fd\\u5e2e\\u60a8\\u770b\\u7684,\\u4e5f\\u6ca1\\u6709\\\"\\n\\u6211\\u6709\\u7f51\\u4e0a\\u7684\\u3002\\n\\\"\\u4f46\\u662f\\u4f60\\u7684\\u5229\\u606f\\u89813\\u57575\\u4e5f\\u6bd4\\u6211\\u4eec\\u8fd9\\u4e2a\\u8d35,\\u90a3\\u50cf\\u4f60\\u73b0\\u5728\\u8fd8\\u662f\\u4fe1\\u7528\\u5361\\u7528\\u7684\\u591a\\u4e00\\u70b9,\\u561b\\\"\\n\\u4fe1\\u7528\\u5361\\u7684\\u8bdd\\u5229\\u606f\\u4e5f\\u3002\\n\\\"\\u5229\\u606f\\u4e5f\\u9ad8,\\u8fd8\\u6709\\u4e2a\\u624b\\u7eed\\u8d39,\\u4e0d\\u7ba1\\u3002\\\"\\n\\u6211\\u5e2e\\u4f60\\u770b\\u6da8\\u5206\\u80fd\\u4e0d\\u80fd\\u6da8\\u3002\\n\\u4f60\\u4fe1\\u7528\\u5361\\u6700\\u9ad8\\u4e00\\u4e2a\\u989d\\u5ea6\\u662f\\u591a\\u5c11?\\n\\u9ad8\\u4e86\\u3002\\\"\\n\\n\\nCONCISE SUMMARY:\",\n",
      "    \"Write a concise summary of the following:\\n\\n\\n\\\"\\u4f60\\u4fe1\\u7528\\u5361\\u6700\\u9ad8\\u4e00\\u4e2a\\u989d\\u5ea6\\u662f\\u591a\\u5c11?\\n\\u9ad8\\u4e86\\u3002\\n730\\u5206\\u901a\\u957f\\u7684\\u4e09\\u6b21\\u3002\\n\\\"\\u6211\\u5e2e\\u4f60\\u6d4b\\u4e2a\\u6211\\u4eec\\u8fd9\\u4e2a\\u989d\\u5ea6,\\u5427\\u4f60\\u5982\\u679c\\u8bf4\\u89c9\\u5f97\\u989d\\u5ea6\\u5408\\u9002,\\u6216\\u8005\\u5229\\u7387\\u5408\\u9002\\u7684\\u8bdd,\\u7528\\u4e0d\\u7528\\u770b\\u4f60\\u81ea\\u5df1,\\\"\\n\\u5c31\\u7ed9\\u4f60\\u5f00\\u4e2a\\u989d\\u5ea6\\u800c\\u5df2\\u3002\\n\\u4e0d\\u7528\\u7684\\u8bdd\\u4e0d\\u8ddf\\u4f60\\u6536\\u4efb\\u4f55\\u4e00\\u5206\\u94b1\\u8d39\\u7528\\u3002\\n\\\"\\u4f60\\u5982\\u679c\\u8bf4\\u89c9\\u5f97\\u6bd4\\u4f60\\u7528\\u4fe1\\u7528\\u5361\\u8981\\u65b9\\u4fbf\\u8981\\u5212\\u7b97\\u7684\\u8bdd,\\u90a3\\u5c31\\u53ef\\u4ee5\\u7528\\u6211\\u4eec\\u8fd9\\u4e2a\\u5c31\\u4e0d\\u7528\\u3002\\\"\\n\\u8fd9\\u4e2a\\u5c31\\u4e0d\\u7528\\u4fe1\\u7528\\u5361\\u4e86\\u3002\\\"\\n\\n\\nCONCISE SUMMARY:\",\n",
      "    \"Write a concise summary of the following:\\n\\n\\n\\\"\\u8fd9\\u4e2a\\u5c31\\u4e0d\\u7528\\u4fe1\\u7528\\u5361\\u4e86\\u3002\\n\\u5c31\\u5e2e\\u4f60\\u6d4b\\u4e2a\\u989d\\u5ea6\\u3002\\n\\u4f60\\u770b\\u4f60\\u770b\\u6211\\u7684\\u5417?\\u7b97\\u5feb\\u4e00\\u70b9\\u3002\\n\\\"\\u6211\\u4eec\\u8fd9\\u8fb9\\u662f\\u4e2d\\u4fe1\\u94f6\\u884c\\u7684,\\u8981\\u4e0b\\u8f7d\\u6211\\u4eec\\u4e00\\u4e2a\\u72ec\\u7acb\\u4e00\\u4e2a\\u4e2d\\u4fe1\\u5e93\\u94b1\\u5305\\u7684APP\\u3002\\\"\\n\\u7528\\u5546\\u5e97\\u7684\\u8bdd\\u662f\\u5728\\u3002\\n\\u5728\\u3002\\n\\u56e0\\u4e3a\\u5546\\u5bb6\\u662f\\u5728\\u54ea\\u91cc?\\u554a\\n\\u6211\\u770b\\u5230\\u771f\\u7684\\u3002\\n\\u60a8\\u90a3\\u8fb9\\u3002\\n\\u5230\\u5e94\\u7528\\u5b9d\\u53ef\\u4ee5\\u3002\\n\\u770b\\u5230\\u4e86\\u5417?\\n\\\"\\u56e0\\u4e3a\\u4f60\\u7684\\u5206\\u6570\\u633a\\u9ad8\\u7684\\u989d\\u5ea6\\u5e94\\u8be5\\u80fd\\u4e0b\\u6bd4\\u8f83\\u9ad8,\\\"\\\"\\n\\n\\nCONCISE SUMMARY:\",\n",
      "    \"Write a concise summary of the following:\\n\\n\\n\\\"\\u554a\\u6bd4\\u8f83\\u9ad8\\u7684\\u4e00\\u4e2a\\u5927\\u989d\\u3002\\n\\\"\\u4e4b\\u524d\\u7684\\u65f6\\u5019\\u6709\\u90a3\\u4e2a\\u6212\\u5907\\u6212\\u5907\\u662f15\\u4e07,\\\"\\n\\\"\\u4f46\\u662f\\u4f60\\u50cf\\u4f60\\u73b0\\u5728\\u4f60\\u5230\\u65f6\\u5019\\u90a3\\u4e2a\\u6212\\u5907\\u6ca1\\u7528\\u4e86\\u4ee5\\u540e,\\u4f60\\u4fe1\\u7528\\u5361\\u7684\\u989d\\u5ea6\\u6709\\u6ca1\\u6709\\u7ed9\\u4f60\\u964d?\\\"\\n\\u4f60\\u4fe1\\u7528\\u5361\\u5927\\u6982\\u6709\\u51e0\\u5f20\\u5440\\u3002\\n\\\"\\u4fe1\\u7528\\u5361\\u7684\\u8bdd,\\u6211\\u6211\\u5230\\u5e2e\\u60a8\\u770b\\u770b,\\u5c31\\u662f\\u5982\\u679c\\u8bf4\\\"\\n\\u4f60\\u4fe1\\u7528\\u5361\\u7684\\u8bdd\\u662f\\u3002\\n\\\"\\u662f\\u4e0d\\u662f\\u6ca1\\u6709\\u5206\\u671f\\u8fc7,\\u6240\\u4ee5\\u4ed6\\u6ca1\\u6709\\u7ed9\\u4f60\\u63d0\\u989d\\u3002\\\"\\n\\\"\\u7ed9\\u4f60\\u63d0\\u989d\\u6309\\u9053\\u7406\\u6765\\u8bf4\\u7684\\u8bdd,\\\"\\\"\\n\\n\\nCONCISE SUMMARY:\",\n",
      "    \"Write a concise summary of the following:\\n\\n\\n\\\"\\\"\\u7ed9\\u4f60\\u63d0\\u989d\\u6309\\u9053\\u7406\\u6765\\u8bf4\\u7684\\u8bdd,\\\"\\n\\u4fe1\\u7528\\u5361\\u3002\\n\\u5fc3\\u91cc\\u4f60\\u5206\\u671f\\u7684\\u4ed6\\u6ca1\\u7ed9\\u4f60\\u63d0\\u989d\\u5417?\\u4e00\\u822c\\u4fe1\\u7528\\u5361\\u7684\\u8bdd\\u4f60\\u5206\\u671f\\u7ed9\\u4f60\\u517b\\u989d\\u5ea6\\u5e94\\u8be5\\u4e0d\\u6b62\\u5341\\u3002\\n\\\"\\u662f4\\u4e07\\u7684,\\u56e0\\u4e3a\\u3002\\\"\\n\\u56e0\\u4e3a\\u50cf\\u4f60\\u7684\\u8d44\\u8d28\\u7ecf\\u8425\\u5e94\\u8be5\\u662f\\u86ee\\u597d\\u7684\\u3002\\n\\u4ed6\\u5230\\u6211\\u53ef\\u4ee5\\u5e2e\\u60a8\\u770b\\u6211\\u4eec\\u8fd9\\u8fb9\\u521d\\u59cb\\u989d\\u5ea6\\u6709\\u591a\\u5c11?\\n\\\"\\u5982\\u679c\\u8bf4\\u6211\\u4eec\\u8fd9\\u8fb9\\u5230\\u65f6\\u5019\\u7528\\u8d77\\u6765\\u65b9\\u4fbf\\u7684\\u8bdd,\\u4f60\\u8fd8\\u4e0d\\u662f\\u628a\\u4f60\\u4fe1\\u7528\\u5361\\u5c31\\u8fd8\\u6389\\u4e86\\u3002\\\"\\\"\\n\\n\\nCONCISE SUMMARY:\",\n",
      "    \"Write a concise summary of the following:\\n\\n\\n\\\"\\\"\\u56e0\\u4e3a\\u4fe1\\u7528\\u5361\\u7684\\u5229\\u606f\\u8981\\u9ad8,\\u4fe1\\u7528\\u5361\\u5206\\u671f\\u4e5f\\u662f\\u4e94\\u5757\\u94b1\\u4e00\\u5929\\u7684,\\u90fd\\u662f\\u4fbf\\u5b9c\\u7684\\u3002\\\"\\n\\\"\\u7136\\u540e\\u5957\\u73b0\\u4ed6\\u6709\\u4e2a\\u624b\\u7eed\\u8d39,\\\"\\n\\\"\\u4f60\\u5c31\\u76f8\\u5f53\\u4e8e\\u7528\\u4fe1\\u7528\\u5361\\u7684\\u592a\\u5206\\u671f,\\\"\\n\\u6709\\u7684\\u65f6\\u5019\\u662f\\u3002\\n\\\"\\u6709\\u7684\\u65f6\\u50190.44,\\u90a3\\u5c31\\u641e\\u6d3b\\u52a8\\u90fd\\u662f\\u624d0.4\\u3002\\\"\\n\\\"\\u6211\\u4eec\\u5c31\\u4e0d\\u641e\\u6d3b\\u52a8\\u6700\\u9ad8\\u624d\\u4e09,\\u50cf\\u4f60\\u8fd9\\u79cd\\u7684\\u5206\\u6570\\u5982\\u679c\\u80fd\\u6279\\u4e2a\\u5927\\u989d\\u5ea6\\u7684\\u8bdd,\\\"\\n\\u5662\\u5e94\\u8be5\\u4e5f\\u5c310.12\\u5de6\\u53f3\\u3002\\\"\\n\\n\\nCONCISE SUMMARY:\",\n",
      "    \"Write a concise summary of the following:\\n\\n\\n\\\"\\u5662\\u5e94\\u8be5\\u4e5f\\u5c310.12\\u5de6\\u53f3\\u3002\\n\\\"\\u6211\\u81ea\\u5df1\\u4e5f\\u5728\\u7528,\\u6211\\u73b0\\u5728\\u662f185000\\u7684\\u989d\\u5ea6,\\u6211\\u5f53\\u65f6\\u6211\\u4fe1\\u7528\\u5361\\u6211\\u90fd\\u6ca1\\\"\\n\\\"\\u6211\\u90fd\\u6ca1\\u7528,\\u6211\\u628a\\u4fe1\\u7528\\u5361\\u90fd\\u6ce8\\u9500\\u4e86,\\u5bf9\\u3002\\\"\\n\\\"\\u4f60\\u8981\\u662f\\u4e0d\\u662f\\u90a3\\u4e2a\\u94f6\\u884c\\u5b9e\\u9645\\u7ed9\\u4f60\\u8fd9\\u4e48\\u591a\\u4f4e\\u7684\\u5229\\u606f,\\u554a\\\"\\n\\u4f60\\u624b\\u673a\\u53f7\\u7801\\u662f\\u591a\\u5c11?\\n\\u4e2d\\u4fe1\\u554a\\u6211\\u597d\\u50cf\\u6709\\u4fe1\\u7528\\u5361\\u4e0d\\u662f\\u3002\\n\\u4e0d\\u662f\\u4fe1\\u7528\\u5361\\u3002\\n\\\"\\u5c31\\u4fe1\\u7528\\u5361\\u4e5f\\u6ca1\\u5173\\u7cfb,\\u6211\\u4eec\\u8fd9\\u8fb9\\u4e0d\\u662f\\u4e00\\u4e2a\\u90e8\\u95e8\\u7684\\u3002\\\"\\\"\\n\\n\\nCONCISE SUMMARY:\",\n",
      "    \"Write a concise summary of the following:\\n\\n\\n\\\"\\u5662\\u4f60\\u8fd9\\u4e2a\\u6628\\u5929\\u90a3\\u4e2a\\u59d0\\u59d0\\u662f\\u3002\\n\\u4e5f\\u662f\\u540c\\u4e00\\u5bb6\\u5e97\\u5417?\\u8fd8\\u662f?\\n\\\"\\u8fd9\\u4e2a\\u5b8c\\u4e86\\u5662\\u4e00\\u4e2a\\u4ed6\\u662f\\u4e0d\\u7528\\u4e86,\\u55ef\\\"\\n7227\\u3002\\n7277\\u3002\\n7271\\u3002\\n275\\u3002\\n\\u4e3a\\u4ec0\\u4e48\\u8bf4?\\n\\\"\\u5ba1\\u6838\\u901a\\u8fc7,\\u7136\\u540e\\u5229\\u606f\\u7b49\\u3002\\\"\\n\\u8fd9\\u8fb9\\u8981\\u626b\\u4e00\\u4e2a\\u6211\\u7684\\u8fd9\\u8fb9\\u5de5\\u53f7\\u7801\\u5c31\\u6ce8\\u518c\\u4e86\\u3002\\n\\u4ed6\\u5728\\u8fd9\\u91cc\\u3002\\n\\\"\\u8fd9\\u8fb9\\u662f\\u6211\\u7684\\u540d\\u5b57,\\u8fd9\\u662f\\u6211\\u7684\\u5de5\\u53f7,\\u8fd9\\u8fb9\\u70b9\\u4e00\\u4e2a\\u626b\\u4e00\\u626b\\u3002\\\"\\n\\u6211\\u626b\\u4e00\\u4e0b\\u6211\\u8fd9\\u4e2a\\u5de5\\u53f7\\u7801\\u3002\\\"\\n\\n\\nCONCISE SUMMARY:\",\n",
      "    \"Write a concise summary of the following:\\n\\n\\n\\\"\\u6211\\u626b\\u4e00\\u4e0b\\u6211\\u8fd9\\u4e2a\\u5de5\\u53f7\\u7801\\u3002\\n\\u5c31\\u4e0b\\u8f7d\\u6ca1\\u6709\\u4ec0\\u4e48\\u5417?\\n\\\"\\u4f60\\u653e\\u5fc3,\\u8fd9\\u662f\\u7ed9\\u4f60\\u94b1\\u7684,\\u4e0d\\u662f\\u8ba9\\u4f60\\u628a\\u94b1\\u62ff\\u51fa\\u6765\\u5c31\\u6295\\u8d44\\u4e86\\u3002\\\"\\n\\u4f60\\u8eab\\u4efd\\u8bc1\\u6709\\u5e26\\u5417?\\u6709\\u4e00\\u4e2a\\u5b9e\\u540d\\u8ba4\\u8bc1\\u3002\\n\\\"\\u5c31\\u8ddf\\u4f60\\u529e\\u8eab\\u4efd\\u8bc1\\u8981\\u5b9e\\u540d\\u8ba4\\u8bc1,\\u4e0d\\u53ef\\u80fd\\u7533\\u8bf7\\u4e8b\\u60c5\\u90fd\\u4e0d\\u77e5\\u9053\\u7ed9\\u4f60\\u4e00\\u4e2a\\u989d\\u5ea6\\u3002\\\"\\n\\u5c31\\u662f\\u6ca1\\u6709\\u539f\\u4ef6\\u7684\\u8bdd\\u6709\\u7167\\u7247\\u4e5f\\u53ef\\u4ee5\\u3002\\n\\u4f60\\u770b\\u770b\\u3002\\\"\\n\\n\\nCONCISE SUMMARY:\",\n",
      "    \"Write a concise summary of the following:\\n\\n\\n\\\"\\u4f60\\u770b\\u770b\\u3002\\n\\\"\\u5c31\\u653e\\u5230\\u90a3\\u4e2a\\u51fa\\u8d44\\u65b9\\u7684\\u5e73\\u5b89\\u4e00\\u70b9,\\u8981\\u4e0d\\u7136\\u4ed6\\u6709\\u90a3\\u4e2a\\u516c\\u53f8\\u4e8c\\u4e00\\u70b9\\u7684\\u3002\\\"\\n\\\"\\u627e\\u4e2a\\u7a7a\\u4e86,\\u6211\\u5bf9\\u3002\\\"\\n\\u8f9b\\u82e6\\u4e00\\u70b9\\u3002\\n\\\"\\u4e0a\\u4f20\\u4e00\\u4e0b,\\u5c31\\u7f51\\u7edc\\u6709\\u70b9\\u6162\\u3002\\\"\\n\\u6b63\\u597d\\u4e86\\u5bf9\\u9762\\u3002\\n\\u4f60\\u6253\\u4e0d\\u8fc7\\u3002\\n\\u8fd9\\u90fd\\u662f\\u4f60\\u4eec\\u7528\\u7684\\u591a\\u5417?\\n\\u4ed6\\u4eec\\u6765\\u8bb2\\u3002\\n\\u914d\\u5408\\u3002\\n\\\"\\u8fd9\\u9500\\u552e\\u90fd\\u884c,\\u4f60\\u81ea\\u5df1\\u6709\\u6ca1\\u6709\\u4ec0\\u4e48\\u5904\\u4e8e\\u5565\\u7684?\\u90a3\\u5c31\\u62c5\\u5fc3\\u5c31\\u6ca1\\u5fc5\\u8981\\u3002\\\"\\n\\u8fd9\\u4e2a\\u6709\\u66f4\\u65b0\\u3002\\\"\\n\\n\\nCONCISE SUMMARY:\",\n",
      "    \"Write a concise summary of the following:\\n\\n\\n\\\"\\u8fd9\\u4e2a\\u6709\\u66f4\\u65b0\\u3002\\n\\\"\\u8fd8\\u8981\\u6709\\u65f6\\u95f4,\\u6682\\u65f6\\u4e0d\\u3002\\\"\\n\\\"\\u5360\\u4e0d\\u63d0\\u524d\\u90a3\\u4e2a,\\u4e0d\\u662f\\u8bf4\\\"\\n\\\"\\u6240\\u6709\\u4eba\\u90fd\\u53ef\\u4ee5\\u7684,\\u6216\\u8005\\u3002\\\"\\n\\\"\\u7136\\u540e\\u8fd9\\u8fb9\\u6211\\u6559\\u4f60\\u600e\\u4e48\\u586b\\u8d44\\u6599,\\u989d\\u5ea6\\u4f1a\\u9ad8\\u4e00\\u70b9,\\u561b\\u8fd9\\u8fb9\\u3002\\\"\\n\\u8fd9\\u8fb9\\u9009\\u62e9\\u5927\\u4e13\\u3002\\n\\u7136\\u540e\\u8fd9\\u8fb9\\u76f4\\u63a5\\u4fe1\\u606f\\u663e\\u793a\\u4e1a\\u4e3b\\u3002\\n\\u6708\\u6536\\u5165\\u7684\\u8bdd\\u662f1\\u4e07\\u3002\\n\\\"\\u5bf9,15000\\u4ee5\\u4e0a\\u3002\\\"\\n\\u4f1a\\u6b63\\u5e38\\u90a3\\u4e9b\\u4ee5\\u540e\\u5c31\\u4ee3\\u8868\\u60a8\\u4e00\\u4e2a\\u7a33\\u5b9a\\u7684\\u6536\\u5165\\u3002\\\"\\n\\n\\nCONCISE SUMMARY:\",\n",
      "    \"Write a concise summary of the following:\\n\\n\\n\\\"\\u4f1a\\u6b63\\u5e38\\u90a3\\u4e9b\\u4ee5\\u540e\\u5c31\\u4ee3\\u8868\\u60a8\\u4e00\\u4e2a\\u7a33\\u5b9a\\u7684\\u6536\\u5165\\u3002\\n\\\"\\u7136\\u540e\\u7684\\u8bdd\\u8fd9\\u8fb9\\u9009\\u4e24\\u4e2a\\u7d27\\u6025\\u8054\\u7cfb\\u4eba,\\u968f\\u4fbf\\u9009\\u4e24\\u4e2a\\u5c31\\u884c\\u3002\\\"\\\"\\n\\n\\nCONCISE SUMMARY:\"\n",
      "  ]\n",
      "}\n",
      "\u001b[36;1m\u001b[1;3m[llm/end]\u001b[0m \u001b[1m[1:chain:MapReduceDocumentsChain > 2:chain:LLMChain > 3:llm:OpenAI] [14.56s] Exiting LLM run with output:\n",
      "\u001b[0m{\n",
      "  \"generations\": [\n",
      "    [\n",
      "      {\n",
      "        \"text\": \" \\u4eca\\u5929\\u4e0a\\u5348\\uff0c\\u4e00\\u4f4d\\u7f8e\\u5bb9\\u5e97\\u8001\\u677f\\u529e\\u7406\\u4e8669000\\u5143\\u7684\\u989d\\u5ea6\\uff0c\\u4ed6\\u4e5f\\u5728\\u7528\\u6212\\u5907\\uff0c\\u56e0\\u4e3a\\u5229\\u606f\\u4f4e\\uff0c\\u6240\\u4ee5\\u628a\\u501f\\u5457\\u8fd8\\u4e86\\u5c31\\u4e0d\\u7528\\u501f\\u7ed9\\u4e86\\uff0c\\u73b0\\u5728\\u6ca1\\u6709\\u501f\\u5457\\u4e86\\uff0c\\u4ee5\\u524d\\u505a\\u7f51\\u4e0a\\u8d37\\u7684\\u3002\",\n",
      "        \"generation_info\": {\n",
      "          \"finish_reason\": \"stop\",\n",
      "          \"logprobs\": null\n",
      "        }\n",
      "      }\n",
      "    ],\n",
      "    [\n",
      "      {\n",
      "        \"text\": \" \\n\\u8fd9\\u6bb5\\u5bf9\\u8bdd\\u8ba8\\u8bba\\u4e86\\u7f51\\u4e0a\\u8d37\\u6b3e\\u548c\\u4fe1\\u7528\\u5361\\u7684\\u5229\\u606f\\u548c\\u624b\\u7eed\\u8d39\\uff0c\\u4ee5\\u53ca\\u4fe1\\u7528\\u5361\\u7684\\u6700\\u9ad8\\u989d\\u5ea6\\u3002\",\n",
      "        \"generation_info\": {\n",
      "          \"finish_reason\": \"stop\",\n",
      "          \"logprobs\": null\n",
      "        }\n",
      "      }\n",
      "    ],\n",
      "    [\n",
      "      {\n",
      "        \"text\": \" \\n\\u4e00\\u4e2a\\u989d\\u5ea6\\u6700\\u9ad8730\\u5206\\u7684\\u4fe1\\u7528\\u5361\\u53ef\\u4ee5\\u7ed9\\u4f60\\u5f00\\u4e2a\\u989d\\u5ea6\\u800c\\u5df2\\uff0c\\u5982\\u679c\\u4f60\\u89c9\\u5f97\\u6bd4\\u7528\\u4fe1\\u7528\\u5361\\u66f4\\u65b9\\u4fbf\\u5212\\u7b97\\uff0c\\u5c31\\u53ef\\u4ee5\\u4e0d\\u7528\\u4fe1\\u7528\\u5361\\u4e86\\uff0c\\u800c\\u4e14\\u4e0d\\u6536\\u4efb\\u4f55\\u8d39\\u7528\\u3002\",\n",
      "        \"generation_info\": {\n",
      "          \"finish_reason\": \"stop\",\n",
      "          \"logprobs\": null\n",
      "        }\n",
      "      }\n",
      "    ],\n",
      "    [\n",
      "      {\n",
      "        \"text\": \" \\n\\u8fd9\\u4e2a\\u5c31\\u4e0d\\u7528\\u4fe1\\u7528\\u5361\\u4e86\\uff0c\\u5c31\\u5e2e\\u4f60\\u6d4b\\u4e2a\\u989d\\u5ea6\\u3002\\u8981\\u4e0b\\u8f7d\\u4e2d\\u4fe1\\u5e93\\u94b1\\u5305\\u7684APP\\uff0c\\u53ef\\u4ee5\\u5230\\u5e94\\u7528\\u5b9d\\u770b\\u5230\\uff0c\\u56e0\\u4e3a\\u4f60\\u7684\\u5206\\u6570\\u633a\\u9ad8\\u7684\\u989d\\u5ea6\\u5e94\\u8be5\\u80fd\\u4e0b\\u6bd4\\u8f83\\u9ad8\\u3002\",\n",
      "        \"generation_info\": {\n",
      "          \"finish_reason\": \"stop\",\n",
      "          \"logprobs\": null\n",
      "        }\n",
      "      }\n",
      "    ],\n",
      "    [\n",
      "      {\n",
      "        \"text\": \"\\n\\n\\u8fd9\\u4e2a\\u95ee\\u9898\\u8ba8\\u8bba\\u7684\\u662f\\u4fe1\\u7528\\u5361\\u7684\\u989d\\u5ea6\\uff0c\\u4e4b\\u524d\\u7684\\u6212\\u5907\\u662f15\\u4e07\\uff0c\\u4f46\\u662f\\u73b0\\u5728\\u6ca1\\u6709\\u7528\\u4e86\\uff0c\\u95ee\\u9898\\u662f\\u4fe1\\u7528\\u5361\\u7684\\u989d\\u5ea6\\u6709\\u6ca1\\u6709\\u964d\\u4f4e\\uff1f\\u7b54\\u6848\\u662f\\u6ca1\\u6709\\u5206\\u671f\\u8fc7\\uff0c\\u6240\\u4ee5\\u6ca1\\u6709\\u7ed9\\u4f60\\u63d0\\u989d\\u3002\",\n",
      "        \"generation_info\": {\n",
      "          \"finish_reason\": \"stop\",\n",
      "          \"logprobs\": null\n",
      "        }\n",
      "      }\n",
      "    ],\n",
      "    [\n",
      "      {\n",
      "        \"text\": \" \\n\\u4e00\\u822c\\u6765\\u8bf4\\uff0c\\u4fe1\\u7528\\u5361\\u5206\\u671f\\u5e94\\u8be5\\u53ef\\u4ee5\\u63d0\\u9ad8\\u989d\\u5ea6\\u8d85\\u8fc7\\u5341\\u4e07\\uff0c\\u4f46\\u662f\\u7531\\u4e8e\\u67d0\\u4e9b\\u539f\\u56e0\\uff0c\\u67d0\\u4eba\\u7684\\u989d\\u5ea6\\u53ea\\u6709\\u56db\\u4e07\\u3002\\u5982\\u679c\\u4f7f\\u7528\\u8d77\\u6765\\u65b9\\u4fbf\\u7684\\u8bdd\\uff0c\\u53ef\\u4ee5\\u8003\\u8651\\u628a\\u4fe1\\u7528\\u5361\\u8fd8\\u6389\\u3002\",\n",
      "        \"generation_info\": {\n",
      "          \"finish_reason\": \"stop\",\n",
      "          \"logprobs\": null\n",
      "        }\n",
      "      }\n",
      "    ],\n",
      "    [\n",
      "      {\n",
      "        \"text\": \" \\n\\u4fe1\\u7528\\u5361\\u5206\\u671f\\u548c\\u5957\\u73b0\\u90fd\\u662f\\u4fbf\\u5b9c\\u7684\\uff0c\\u4f46\\u5957\\u73b0\\u6709\\u624b\\u7eed\\u8d39\\uff0c\\u6709\\u65f6\\u53ef\\u4ee5\\u8fbe\\u52300.44\\uff0c\\u6709\\u65f6\\u53ef\\u4ee5\\u8fbe\\u52300.4\\uff0c\\u6700\\u9ad8\\u53ef\\u4ee5\\u8fbe\\u52300.12\\u3002\",\n",
      "        \"generation_info\": {\n",
      "          \"finish_reason\": \"stop\",\n",
      "          \"logprobs\": null\n",
      "        }\n",
      "      }\n",
      "    ],\n",
      "    [\n",
      "      {\n",
      "        \"text\": \"\\nThe speaker is discussing their credit card limit and interest rate. They have cancelled their credit card and are asking for the other person's phone number. They are not from the same department and it does not matter if the other person has a credit card. The interest rate is estimated to be around 0.12.\",\n",
      "        \"generation_info\": {\n",
      "          \"finish_reason\": \"stop\",\n",
      "          \"logprobs\": null\n",
      "        }\n",
      "      }\n",
      "    ],\n",
      "    [\n",
      "      {\n",
      "        \"text\": \" \\nA person is discussing a store and their sister from the day before. They then discuss a number of codes and interest rates before registering their name and work number with a scan.\",\n",
      "        \"generation_info\": {\n",
      "          \"finish_reason\": \"stop\",\n",
      "          \"logprobs\": null\n",
      "        }\n",
      "      }\n",
      "    ],\n",
      "    [\n",
      "      {\n",
      "        \"text\": \" \\n\\u4e00\\u4e2a\\u4eba\\u6b63\\u5728\\u67e5\\u770b\\u81ea\\u5df1\\u7684\\u5de5\\u53f7\\u7801\\uff0c\\u53e6\\u4e00\\u4e2a\\u4eba\\u89e3\\u91ca\\u8bf4\\uff0c\\u8fd9\\u4e0d\\u662f\\u8ba9\\u4f60\\u628a\\u94b1\\u62ff\\u51fa\\u6765\\u5c31\\u6295\\u8d44\\uff0c\\u800c\\u662f\\u7ed9\\u4f60\\u94b1\\u3002\\u4ed6\\u4eec\\u8fd8\\u8ba8\\u8bba\\u4e86\\u8eab\\u4efd\\u8bc1\\u7684\\u5b9e\\u540d\\u8ba4\\u8bc1\\uff0c\\u5e76\\u8868\\u793a\\u5373\\u4f7f\\u6ca1\\u6709\\u539f\\u4ef6\\uff0c\\u53ea\\u6709\\u7167\\u7247\\u4e5f\\u53ef\\u4ee5\\u3002\",\n",
      "        \"generation_info\": {\n",
      "          \"finish_reason\": \"stop\",\n",
      "          \"logprobs\": null\n",
      "        }\n",
      "      }\n",
      "    ],\n",
      "    [\n",
      "      {\n",
      "        \"text\": \"\\n\\n\\u4e24\\u4eba\\u5728\\u8ba8\\u8bba\\u6295\\u8d44\\u65b9\\u7684\\u5b89\\u5168\\u6027\\uff0c\\u5e76\\u8ba8\\u8bba\\u4e0a\\u4f20\\u6587\\u4ef6\\u7684\\u7f51\\u7edc\\u901f\\u5ea6\\uff0c\\u4ee5\\u53ca\\u9500\\u552e\\u60c5\\u51b5\\uff0c\\u5e76\\u5efa\\u8bae\\u62c5\\u5fc3\\u6ca1\\u5fc5\\u8981\\uff0c\\u8fd8\\u6709\\u66f4\\u65b0\\u7684\\u60c5\\u51b5\\u3002\",\n",
      "        \"generation_info\": {\n",
      "          \"finish_reason\": \"stop\",\n",
      "          \"logprobs\": null\n",
      "        }\n",
      "      }\n",
      "    ],\n",
      "    [\n",
      "      {\n",
      "        \"text\": \"\\nThis discussion is about updating information and filling out forms. It is suggested that everyone can do it and that having a higher degree, such as a college degree, will help. The monthly income should be at least 15,000, which will represent a stable income.\",\n",
      "        \"generation_info\": {\n",
      "          \"finish_reason\": \"stop\",\n",
      "          \"logprobs\": null\n",
      "        }\n",
      "      }\n",
      "    ],\n",
      "    [\n",
      "      {\n",
      "        \"text\": \" \\u8fd9\\u8fb9\\u5c06\\u4f1a\\u63d0\\u4f9b\\u4e00\\u4e2a\\u7a33\\u5b9a\\u7684\\u6536\\u5165\\uff0c\\u5e76\\u4e14\\u9700\\u8981\\u9009\\u62e9\\u4e24\\u4e2a\\u7d27\\u6025\\u8054\\u7cfb\\u4eba\\u3002\",\n",
      "        \"generation_info\": {\n",
      "          \"finish_reason\": \"stop\",\n",
      "          \"logprobs\": null\n",
      "        }\n",
      "      }\n",
      "    ]\n",
      "  ],\n",
      "  \"llm_output\": {\n",
      "    \"token_usage\": {\n",
      "      \"total_tokens\": 4716,\n",
      "      \"prompt_tokens\": 3373,\n",
      "      \"completion_tokens\": 1343\n",
      "    },\n",
      "    \"model_name\": \"text-davinci-003\"\n",
      "  }\n",
      "}\n",
      "\u001b[36;1m\u001b[1;3m[chain/end]\u001b[0m \u001b[1m[1:chain:MapReduceDocumentsChain > 2:chain:LLMChain] [14.56s] Exiting Chain run with output:\n",
      "\u001b[0m{\n",
      "  \"outputs\": [\n",
      "    {\n",
      "      \"text\": \" \\u4eca\\u5929\\u4e0a\\u5348\\uff0c\\u4e00\\u4f4d\\u7f8e\\u5bb9\\u5e97\\u8001\\u677f\\u529e\\u7406\\u4e8669000\\u5143\\u7684\\u989d\\u5ea6\\uff0c\\u4ed6\\u4e5f\\u5728\\u7528\\u6212\\u5907\\uff0c\\u56e0\\u4e3a\\u5229\\u606f\\u4f4e\\uff0c\\u6240\\u4ee5\\u628a\\u501f\\u5457\\u8fd8\\u4e86\\u5c31\\u4e0d\\u7528\\u501f\\u7ed9\\u4e86\\uff0c\\u73b0\\u5728\\u6ca1\\u6709\\u501f\\u5457\\u4e86\\uff0c\\u4ee5\\u524d\\u505a\\u7f51\\u4e0a\\u8d37\\u7684\\u3002\"\n",
      "    },\n",
      "    {\n",
      "      \"text\": \" \\n\\u8fd9\\u6bb5\\u5bf9\\u8bdd\\u8ba8\\u8bba\\u4e86\\u7f51\\u4e0a\\u8d37\\u6b3e\\u548c\\u4fe1\\u7528\\u5361\\u7684\\u5229\\u606f\\u548c\\u624b\\u7eed\\u8d39\\uff0c\\u4ee5\\u53ca\\u4fe1\\u7528\\u5361\\u7684\\u6700\\u9ad8\\u989d\\u5ea6\\u3002\"\n",
      "    },\n",
      "    {\n",
      "      \"text\": \" \\n\\u4e00\\u4e2a\\u989d\\u5ea6\\u6700\\u9ad8730\\u5206\\u7684\\u4fe1\\u7528\\u5361\\u53ef\\u4ee5\\u7ed9\\u4f60\\u5f00\\u4e2a\\u989d\\u5ea6\\u800c\\u5df2\\uff0c\\u5982\\u679c\\u4f60\\u89c9\\u5f97\\u6bd4\\u7528\\u4fe1\\u7528\\u5361\\u66f4\\u65b9\\u4fbf\\u5212\\u7b97\\uff0c\\u5c31\\u53ef\\u4ee5\\u4e0d\\u7528\\u4fe1\\u7528\\u5361\\u4e86\\uff0c\\u800c\\u4e14\\u4e0d\\u6536\\u4efb\\u4f55\\u8d39\\u7528\\u3002\"\n",
      "    },\n",
      "    {\n",
      "      \"text\": \" \\n\\u8fd9\\u4e2a\\u5c31\\u4e0d\\u7528\\u4fe1\\u7528\\u5361\\u4e86\\uff0c\\u5c31\\u5e2e\\u4f60\\u6d4b\\u4e2a\\u989d\\u5ea6\\u3002\\u8981\\u4e0b\\u8f7d\\u4e2d\\u4fe1\\u5e93\\u94b1\\u5305\\u7684APP\\uff0c\\u53ef\\u4ee5\\u5230\\u5e94\\u7528\\u5b9d\\u770b\\u5230\\uff0c\\u56e0\\u4e3a\\u4f60\\u7684\\u5206\\u6570\\u633a\\u9ad8\\u7684\\u989d\\u5ea6\\u5e94\\u8be5\\u80fd\\u4e0b\\u6bd4\\u8f83\\u9ad8\\u3002\"\n",
      "    },\n",
      "    {\n",
      "      \"text\": \"\\n\\n\\u8fd9\\u4e2a\\u95ee\\u9898\\u8ba8\\u8bba\\u7684\\u662f\\u4fe1\\u7528\\u5361\\u7684\\u989d\\u5ea6\\uff0c\\u4e4b\\u524d\\u7684\\u6212\\u5907\\u662f15\\u4e07\\uff0c\\u4f46\\u662f\\u73b0\\u5728\\u6ca1\\u6709\\u7528\\u4e86\\uff0c\\u95ee\\u9898\\u662f\\u4fe1\\u7528\\u5361\\u7684\\u989d\\u5ea6\\u6709\\u6ca1\\u6709\\u964d\\u4f4e\\uff1f\\u7b54\\u6848\\u662f\\u6ca1\\u6709\\u5206\\u671f\\u8fc7\\uff0c\\u6240\\u4ee5\\u6ca1\\u6709\\u7ed9\\u4f60\\u63d0\\u989d\\u3002\"\n",
      "    },\n",
      "    {\n",
      "      \"text\": \" \\n\\u4e00\\u822c\\u6765\\u8bf4\\uff0c\\u4fe1\\u7528\\u5361\\u5206\\u671f\\u5e94\\u8be5\\u53ef\\u4ee5\\u63d0\\u9ad8\\u989d\\u5ea6\\u8d85\\u8fc7\\u5341\\u4e07\\uff0c\\u4f46\\u662f\\u7531\\u4e8e\\u67d0\\u4e9b\\u539f\\u56e0\\uff0c\\u67d0\\u4eba\\u7684\\u989d\\u5ea6\\u53ea\\u6709\\u56db\\u4e07\\u3002\\u5982\\u679c\\u4f7f\\u7528\\u8d77\\u6765\\u65b9\\u4fbf\\u7684\\u8bdd\\uff0c\\u53ef\\u4ee5\\u8003\\u8651\\u628a\\u4fe1\\u7528\\u5361\\u8fd8\\u6389\\u3002\"\n",
      "    },\n",
      "    {\n",
      "      \"text\": \" \\n\\u4fe1\\u7528\\u5361\\u5206\\u671f\\u548c\\u5957\\u73b0\\u90fd\\u662f\\u4fbf\\u5b9c\\u7684\\uff0c\\u4f46\\u5957\\u73b0\\u6709\\u624b\\u7eed\\u8d39\\uff0c\\u6709\\u65f6\\u53ef\\u4ee5\\u8fbe\\u52300.44\\uff0c\\u6709\\u65f6\\u53ef\\u4ee5\\u8fbe\\u52300.4\\uff0c\\u6700\\u9ad8\\u53ef\\u4ee5\\u8fbe\\u52300.12\\u3002\"\n",
      "    },\n",
      "    {\n",
      "      \"text\": \"\\nThe speaker is discussing their credit card limit and interest rate. They have cancelled their credit card and are asking for the other person's phone number. They are not from the same department and it does not matter if the other person has a credit card. The interest rate is estimated to be around 0.12.\"\n",
      "    },\n",
      "    {\n",
      "      \"text\": \" \\nA person is discussing a store and their sister from the day before. They then discuss a number of codes and interest rates before registering their name and work number with a scan.\"\n",
      "    },\n",
      "    {\n",
      "      \"text\": \" \\n\\u4e00\\u4e2a\\u4eba\\u6b63\\u5728\\u67e5\\u770b\\u81ea\\u5df1\\u7684\\u5de5\\u53f7\\u7801\\uff0c\\u53e6\\u4e00\\u4e2a\\u4eba\\u89e3\\u91ca\\u8bf4\\uff0c\\u8fd9\\u4e0d\\u662f\\u8ba9\\u4f60\\u628a\\u94b1\\u62ff\\u51fa\\u6765\\u5c31\\u6295\\u8d44\\uff0c\\u800c\\u662f\\u7ed9\\u4f60\\u94b1\\u3002\\u4ed6\\u4eec\\u8fd8\\u8ba8\\u8bba\\u4e86\\u8eab\\u4efd\\u8bc1\\u7684\\u5b9e\\u540d\\u8ba4\\u8bc1\\uff0c\\u5e76\\u8868\\u793a\\u5373\\u4f7f\\u6ca1\\u6709\\u539f\\u4ef6\\uff0c\\u53ea\\u6709\\u7167\\u7247\\u4e5f\\u53ef\\u4ee5\\u3002\"\n",
      "    },\n",
      "    {\n",
      "      \"text\": \"\\n\\n\\u4e24\\u4eba\\u5728\\u8ba8\\u8bba\\u6295\\u8d44\\u65b9\\u7684\\u5b89\\u5168\\u6027\\uff0c\\u5e76\\u8ba8\\u8bba\\u4e0a\\u4f20\\u6587\\u4ef6\\u7684\\u7f51\\u7edc\\u901f\\u5ea6\\uff0c\\u4ee5\\u53ca\\u9500\\u552e\\u60c5\\u51b5\\uff0c\\u5e76\\u5efa\\u8bae\\u62c5\\u5fc3\\u6ca1\\u5fc5\\u8981\\uff0c\\u8fd8\\u6709\\u66f4\\u65b0\\u7684\\u60c5\\u51b5\\u3002\"\n",
      "    },\n",
      "    {\n",
      "      \"text\": \"\\nThis discussion is about updating information and filling out forms. It is suggested that everyone can do it and that having a higher degree, such as a college degree, will help. The monthly income should be at least 15,000, which will represent a stable income.\"\n",
      "    },\n",
      "    {\n",
      "      \"text\": \" \\u8fd9\\u8fb9\\u5c06\\u4f1a\\u63d0\\u4f9b\\u4e00\\u4e2a\\u7a33\\u5b9a\\u7684\\u6536\\u5165\\uff0c\\u5e76\\u4e14\\u9700\\u8981\\u9009\\u62e9\\u4e24\\u4e2a\\u7d27\\u6025\\u8054\\u7cfb\\u4eba\\u3002\"\n",
      "    }\n",
      "  ]\n",
      "}\n",
      "\u001b[32;1m\u001b[1;3m[chain/start]\u001b[0m \u001b[1m[1:chain:MapReduceDocumentsChain > 4:chain:StuffDocumentsChain] Entering Chain run with input:\n",
      "\u001b[0m[inputs]\n",
      "\u001b[32;1m\u001b[1;3m[chain/start]\u001b[0m \u001b[1m[1:chain:MapReduceDocumentsChain > 4:chain:StuffDocumentsChain > 5:chain:LLMChain] Entering Chain run with input:\n",
      "\u001b[0m{\n",
      "  \"text\": \" \\u4eca\\u5929\\u4e0a\\u5348\\uff0c\\u4e00\\u4f4d\\u7f8e\\u5bb9\\u5e97\\u8001\\u677f\\u529e\\u7406\\u4e8669000\\u5143\\u7684\\u989d\\u5ea6\\uff0c\\u4ed6\\u4e5f\\u5728\\u7528\\u6212\\u5907\\uff0c\\u56e0\\u4e3a\\u5229\\u606f\\u4f4e\\uff0c\\u6240\\u4ee5\\u628a\\u501f\\u5457\\u8fd8\\u4e86\\u5c31\\u4e0d\\u7528\\u501f\\u7ed9\\u4e86\\uff0c\\u73b0\\u5728\\u6ca1\\u6709\\u501f\\u5457\\u4e86\\uff0c\\u4ee5\\u524d\\u505a\\u7f51\\u4e0a\\u8d37\\u7684\\u3002\\n\\n \\n\\u8fd9\\u6bb5\\u5bf9\\u8bdd\\u8ba8\\u8bba\\u4e86\\u7f51\\u4e0a\\u8d37\\u6b3e\\u548c\\u4fe1\\u7528\\u5361\\u7684\\u5229\\u606f\\u548c\\u624b\\u7eed\\u8d39\\uff0c\\u4ee5\\u53ca\\u4fe1\\u7528\\u5361\\u7684\\u6700\\u9ad8\\u989d\\u5ea6\\u3002\\n\\n \\n\\u4e00\\u4e2a\\u989d\\u5ea6\\u6700\\u9ad8730\\u5206\\u7684\\u4fe1\\u7528\\u5361\\u53ef\\u4ee5\\u7ed9\\u4f60\\u5f00\\u4e2a\\u989d\\u5ea6\\u800c\\u5df2\\uff0c\\u5982\\u679c\\u4f60\\u89c9\\u5f97\\u6bd4\\u7528\\u4fe1\\u7528\\u5361\\u66f4\\u65b9\\u4fbf\\u5212\\u7b97\\uff0c\\u5c31\\u53ef\\u4ee5\\u4e0d\\u7528\\u4fe1\\u7528\\u5361\\u4e86\\uff0c\\u800c\\u4e14\\u4e0d\\u6536\\u4efb\\u4f55\\u8d39\\u7528\\u3002\\n\\n \\n\\u8fd9\\u4e2a\\u5c31\\u4e0d\\u7528\\u4fe1\\u7528\\u5361\\u4e86\\uff0c\\u5c31\\u5e2e\\u4f60\\u6d4b\\u4e2a\\u989d\\u5ea6\\u3002\\u8981\\u4e0b\\u8f7d\\u4e2d\\u4fe1\\u5e93\\u94b1\\u5305\\u7684APP\\uff0c\\u53ef\\u4ee5\\u5230\\u5e94\\u7528\\u5b9d\\u770b\\u5230\\uff0c\\u56e0\\u4e3a\\u4f60\\u7684\\u5206\\u6570\\u633a\\u9ad8\\u7684\\u989d\\u5ea6\\u5e94\\u8be5\\u80fd\\u4e0b\\u6bd4\\u8f83\\u9ad8\\u3002\\n\\n\\n\\n\\u8fd9\\u4e2a\\u95ee\\u9898\\u8ba8\\u8bba\\u7684\\u662f\\u4fe1\\u7528\\u5361\\u7684\\u989d\\u5ea6\\uff0c\\u4e4b\\u524d\\u7684\\u6212\\u5907\\u662f15\\u4e07\\uff0c\\u4f46\\u662f\\u73b0\\u5728\\u6ca1\\u6709\\u7528\\u4e86\\uff0c\\u95ee\\u9898\\u662f\\u4fe1\\u7528\\u5361\\u7684\\u989d\\u5ea6\\u6709\\u6ca1\\u6709\\u964d\\u4f4e\\uff1f\\u7b54\\u6848\\u662f\\u6ca1\\u6709\\u5206\\u671f\\u8fc7\\uff0c\\u6240\\u4ee5\\u6ca1\\u6709\\u7ed9\\u4f60\\u63d0\\u989d\\u3002\\n\\n \\n\\u4e00\\u822c\\u6765\\u8bf4\\uff0c\\u4fe1\\u7528\\u5361\\u5206\\u671f\\u5e94\\u8be5\\u53ef\\u4ee5\\u63d0\\u9ad8\\u989d\\u5ea6\\u8d85\\u8fc7\\u5341\\u4e07\\uff0c\\u4f46\\u662f\\u7531\\u4e8e\\u67d0\\u4e9b\\u539f\\u56e0\\uff0c\\u67d0\\u4eba\\u7684\\u989d\\u5ea6\\u53ea\\u6709\\u56db\\u4e07\\u3002\\u5982\\u679c\\u4f7f\\u7528\\u8d77\\u6765\\u65b9\\u4fbf\\u7684\\u8bdd\\uff0c\\u53ef\\u4ee5\\u8003\\u8651\\u628a\\u4fe1\\u7528\\u5361\\u8fd8\\u6389\\u3002\\n\\n \\n\\u4fe1\\u7528\\u5361\\u5206\\u671f\\u548c\\u5957\\u73b0\\u90fd\\u662f\\u4fbf\\u5b9c\\u7684\\uff0c\\u4f46\\u5957\\u73b0\\u6709\\u624b\\u7eed\\u8d39\\uff0c\\u6709\\u65f6\\u53ef\\u4ee5\\u8fbe\\u52300.44\\uff0c\\u6709\\u65f6\\u53ef\\u4ee5\\u8fbe\\u52300.4\\uff0c\\u6700\\u9ad8\\u53ef\\u4ee5\\u8fbe\\u52300.12\\u3002\\n\\n\\nThe speaker is discussing their credit card limit and interest rate. They have cancelled their credit card and are asking for the other person's phone number. They are not from the same department and it does not matter if the other person has a credit card. The interest rate is estimated to be around 0.12.\\n\\n \\nA person is discussing a store and their sister from the day before. They then discuss a number of codes and interest rates before registering their name and work number with a scan.\\n\\n \\n\\u4e00\\u4e2a\\u4eba\\u6b63\\u5728\\u67e5\\u770b\\u81ea\\u5df1\\u7684\\u5de5\\u53f7\\u7801\\uff0c\\u53e6\\u4e00\\u4e2a\\u4eba\\u89e3\\u91ca\\u8bf4\\uff0c\\u8fd9\\u4e0d\\u662f\\u8ba9\\u4f60\\u628a\\u94b1\\u62ff\\u51fa\\u6765\\u5c31\\u6295\\u8d44\\uff0c\\u800c\\u662f\\u7ed9\\u4f60\\u94b1\\u3002\\u4ed6\\u4eec\\u8fd8\\u8ba8\\u8bba\\u4e86\\u8eab\\u4efd\\u8bc1\\u7684\\u5b9e\\u540d\\u8ba4\\u8bc1\\uff0c\\u5e76\\u8868\\u793a\\u5373\\u4f7f\\u6ca1\\u6709\\u539f\\u4ef6\\uff0c\\u53ea\\u6709\\u7167\\u7247\\u4e5f\\u53ef\\u4ee5\\u3002\\n\\n\\n\\n\\u4e24\\u4eba\\u5728\\u8ba8\\u8bba\\u6295\\u8d44\\u65b9\\u7684\\u5b89\\u5168\\u6027\\uff0c\\u5e76\\u8ba8\\u8bba\\u4e0a\\u4f20\\u6587\\u4ef6\\u7684\\u7f51\\u7edc\\u901f\\u5ea6\\uff0c\\u4ee5\\u53ca\\u9500\\u552e\\u60c5\\u51b5\\uff0c\\u5e76\\u5efa\\u8bae\\u62c5\\u5fc3\\u6ca1\\u5fc5\\u8981\\uff0c\\u8fd8\\u6709\\u66f4\\u65b0\\u7684\\u60c5\\u51b5\\u3002\\n\\n\\nThis discussion is about updating information and filling out forms. It is suggested that everyone can do it and that having a higher degree, such as a college degree, will help. The monthly income should be at least 15,000, which will represent a stable income.\\n\\n \\u8fd9\\u8fb9\\u5c06\\u4f1a\\u63d0\\u4f9b\\u4e00\\u4e2a\\u7a33\\u5b9a\\u7684\\u6536\\u5165\\uff0c\\u5e76\\u4e14\\u9700\\u8981\\u9009\\u62e9\\u4e24\\u4e2a\\u7d27\\u6025\\u8054\\u7cfb\\u4eba\\u3002\"\n",
      "}\n",
      "\u001b[32;1m\u001b[1;3m[llm/start]\u001b[0m \u001b[1m[1:chain:MapReduceDocumentsChain > 4:chain:StuffDocumentsChain > 5:chain:LLMChain > 6:llm:OpenAI] Entering LLM run with input:\n",
      "\u001b[0m{\n",
      "  \"prompts\": [\n",
      "    \"Write a concise summary of the following:\\n\\n\\n\\\" \\u4eca\\u5929\\u4e0a\\u5348\\uff0c\\u4e00\\u4f4d\\u7f8e\\u5bb9\\u5e97\\u8001\\u677f\\u529e\\u7406\\u4e8669000\\u5143\\u7684\\u989d\\u5ea6\\uff0c\\u4ed6\\u4e5f\\u5728\\u7528\\u6212\\u5907\\uff0c\\u56e0\\u4e3a\\u5229\\u606f\\u4f4e\\uff0c\\u6240\\u4ee5\\u628a\\u501f\\u5457\\u8fd8\\u4e86\\u5c31\\u4e0d\\u7528\\u501f\\u7ed9\\u4e86\\uff0c\\u73b0\\u5728\\u6ca1\\u6709\\u501f\\u5457\\u4e86\\uff0c\\u4ee5\\u524d\\u505a\\u7f51\\u4e0a\\u8d37\\u7684\\u3002\\n\\n \\n\\u8fd9\\u6bb5\\u5bf9\\u8bdd\\u8ba8\\u8bba\\u4e86\\u7f51\\u4e0a\\u8d37\\u6b3e\\u548c\\u4fe1\\u7528\\u5361\\u7684\\u5229\\u606f\\u548c\\u624b\\u7eed\\u8d39\\uff0c\\u4ee5\\u53ca\\u4fe1\\u7528\\u5361\\u7684\\u6700\\u9ad8\\u989d\\u5ea6\\u3002\\n\\n \\n\\u4e00\\u4e2a\\u989d\\u5ea6\\u6700\\u9ad8730\\u5206\\u7684\\u4fe1\\u7528\\u5361\\u53ef\\u4ee5\\u7ed9\\u4f60\\u5f00\\u4e2a\\u989d\\u5ea6\\u800c\\u5df2\\uff0c\\u5982\\u679c\\u4f60\\u89c9\\u5f97\\u6bd4\\u7528\\u4fe1\\u7528\\u5361\\u66f4\\u65b9\\u4fbf\\u5212\\u7b97\\uff0c\\u5c31\\u53ef\\u4ee5\\u4e0d\\u7528\\u4fe1\\u7528\\u5361\\u4e86\\uff0c\\u800c\\u4e14\\u4e0d\\u6536\\u4efb\\u4f55\\u8d39\\u7528\\u3002\\n\\n \\n\\u8fd9\\u4e2a\\u5c31\\u4e0d\\u7528\\u4fe1\\u7528\\u5361\\u4e86\\uff0c\\u5c31\\u5e2e\\u4f60\\u6d4b\\u4e2a\\u989d\\u5ea6\\u3002\\u8981\\u4e0b\\u8f7d\\u4e2d\\u4fe1\\u5e93\\u94b1\\u5305\\u7684APP\\uff0c\\u53ef\\u4ee5\\u5230\\u5e94\\u7528\\u5b9d\\u770b\\u5230\\uff0c\\u56e0\\u4e3a\\u4f60\\u7684\\u5206\\u6570\\u633a\\u9ad8\\u7684\\u989d\\u5ea6\\u5e94\\u8be5\\u80fd\\u4e0b\\u6bd4\\u8f83\\u9ad8\\u3002\\n\\n\\n\\n\\u8fd9\\u4e2a\\u95ee\\u9898\\u8ba8\\u8bba\\u7684\\u662f\\u4fe1\\u7528\\u5361\\u7684\\u989d\\u5ea6\\uff0c\\u4e4b\\u524d\\u7684\\u6212\\u5907\\u662f15\\u4e07\\uff0c\\u4f46\\u662f\\u73b0\\u5728\\u6ca1\\u6709\\u7528\\u4e86\\uff0c\\u95ee\\u9898\\u662f\\u4fe1\\u7528\\u5361\\u7684\\u989d\\u5ea6\\u6709\\u6ca1\\u6709\\u964d\\u4f4e\\uff1f\\u7b54\\u6848\\u662f\\u6ca1\\u6709\\u5206\\u671f\\u8fc7\\uff0c\\u6240\\u4ee5\\u6ca1\\u6709\\u7ed9\\u4f60\\u63d0\\u989d\\u3002\\n\\n \\n\\u4e00\\u822c\\u6765\\u8bf4\\uff0c\\u4fe1\\u7528\\u5361\\u5206\\u671f\\u5e94\\u8be5\\u53ef\\u4ee5\\u63d0\\u9ad8\\u989d\\u5ea6\\u8d85\\u8fc7\\u5341\\u4e07\\uff0c\\u4f46\\u662f\\u7531\\u4e8e\\u67d0\\u4e9b\\u539f\\u56e0\\uff0c\\u67d0\\u4eba\\u7684\\u989d\\u5ea6\\u53ea\\u6709\\u56db\\u4e07\\u3002\\u5982\\u679c\\u4f7f\\u7528\\u8d77\\u6765\\u65b9\\u4fbf\\u7684\\u8bdd\\uff0c\\u53ef\\u4ee5\\u8003\\u8651\\u628a\\u4fe1\\u7528\\u5361\\u8fd8\\u6389\\u3002\\n\\n \\n\\u4fe1\\u7528\\u5361\\u5206\\u671f\\u548c\\u5957\\u73b0\\u90fd\\u662f\\u4fbf\\u5b9c\\u7684\\uff0c\\u4f46\\u5957\\u73b0\\u6709\\u624b\\u7eed\\u8d39\\uff0c\\u6709\\u65f6\\u53ef\\u4ee5\\u8fbe\\u52300.44\\uff0c\\u6709\\u65f6\\u53ef\\u4ee5\\u8fbe\\u52300.4\\uff0c\\u6700\\u9ad8\\u53ef\\u4ee5\\u8fbe\\u52300.12\\u3002\\n\\n\\nThe speaker is discussing their credit card limit and interest rate. They have cancelled their credit card and are asking for the other person's phone number. They are not from the same department and it does not matter if the other person has a credit card. The interest rate is estimated to be around 0.12.\\n\\n \\nA person is discussing a store and their sister from the day before. They then discuss a number of codes and interest rates before registering their name and work number with a scan.\\n\\n \\n\\u4e00\\u4e2a\\u4eba\\u6b63\\u5728\\u67e5\\u770b\\u81ea\\u5df1\\u7684\\u5de5\\u53f7\\u7801\\uff0c\\u53e6\\u4e00\\u4e2a\\u4eba\\u89e3\\u91ca\\u8bf4\\uff0c\\u8fd9\\u4e0d\\u662f\\u8ba9\\u4f60\\u628a\\u94b1\\u62ff\\u51fa\\u6765\\u5c31\\u6295\\u8d44\\uff0c\\u800c\\u662f\\u7ed9\\u4f60\\u94b1\\u3002\\u4ed6\\u4eec\\u8fd8\\u8ba8\\u8bba\\u4e86\\u8eab\\u4efd\\u8bc1\\u7684\\u5b9e\\u540d\\u8ba4\\u8bc1\\uff0c\\u5e76\\u8868\\u793a\\u5373\\u4f7f\\u6ca1\\u6709\\u539f\\u4ef6\\uff0c\\u53ea\\u6709\\u7167\\u7247\\u4e5f\\u53ef\\u4ee5\\u3002\\n\\n\\n\\n\\u4e24\\u4eba\\u5728\\u8ba8\\u8bba\\u6295\\u8d44\\u65b9\\u7684\\u5b89\\u5168\\u6027\\uff0c\\u5e76\\u8ba8\\u8bba\\u4e0a\\u4f20\\u6587\\u4ef6\\u7684\\u7f51\\u7edc\\u901f\\u5ea6\\uff0c\\u4ee5\\u53ca\\u9500\\u552e\\u60c5\\u51b5\\uff0c\\u5e76\\u5efa\\u8bae\\u62c5\\u5fc3\\u6ca1\\u5fc5\\u8981\\uff0c\\u8fd8\\u6709\\u66f4\\u65b0\\u7684\\u60c5\\u51b5\\u3002\\n\\n\\nThis discussion is about updating information and filling out forms. It is suggested that everyone can do it and that having a higher degree, such as a college degree, will help. The monthly income should be at least 15,000, which will represent a stable income.\\n\\n \\u8fd9\\u8fb9\\u5c06\\u4f1a\\u63d0\\u4f9b\\u4e00\\u4e2a\\u7a33\\u5b9a\\u7684\\u6536\\u5165\\uff0c\\u5e76\\u4e14\\u9700\\u8981\\u9009\\u62e9\\u4e24\\u4e2a\\u7d27\\u6025\\u8054\\u7cfb\\u4eba\\u3002\\\"\\n\\n\\nCONCISE SUMMARY:\"\n",
      "  ]\n",
      "}\n",
      "\u001b[36;1m\u001b[1;3m[llm/end]\u001b[0m \u001b[1m[1:chain:MapReduceDocumentsChain > 4:chain:StuffDocumentsChain > 5:chain:LLMChain > 6:llm:OpenAI] [7.44s] Exiting LLM run with output:\n",
      "\u001b[0m{\n",
      "  \"generations\": [\n",
      "    [\n",
      "      {\n",
      "        \"text\": \" \\n\\nThe speaker is discussing the interest rates and fees associated with credit cards and online loans, as well as the maximum credit limit. They suggest not using a credit card if it is more convenient and cost-effective, and suggest downloading an app to check the credit limit. They also discuss the safety of investing and the speed of uploading documents, as well as the need to update information and fill out forms. It is suggested that everyone can do it and that having a higher degree, such as a college degree, will help. The monthly income should be at least 15,000, which will represent a stable income.\",\n",
      "        \"generation_info\": {\n",
      "          \"finish_reason\": \"stop\",\n",
      "          \"logprobs\": null\n",
      "        }\n",
      "      }\n",
      "    ]\n",
      "  ],\n",
      "  \"llm_output\": {\n",
      "    \"token_usage\": {\n",
      "      \"total_tokens\": 1501,\n",
      "      \"prompt_tokens\": 1376,\n",
      "      \"completion_tokens\": 125\n",
      "    },\n",
      "    \"model_name\": \"text-davinci-003\"\n",
      "  }\n",
      "}\n",
      "\u001b[36;1m\u001b[1;3m[chain/end]\u001b[0m \u001b[1m[1:chain:MapReduceDocumentsChain > 4:chain:StuffDocumentsChain > 5:chain:LLMChain] [7.44s] Exiting Chain run with output:\n",
      "\u001b[0m{\n",
      "  \"text\": \" \\n\\nThe speaker is discussing the interest rates and fees associated with credit cards and online loans, as well as the maximum credit limit. They suggest not using a credit card if it is more convenient and cost-effective, and suggest downloading an app to check the credit limit. They also discuss the safety of investing and the speed of uploading documents, as well as the need to update information and fill out forms. It is suggested that everyone can do it and that having a higher degree, such as a college degree, will help. The monthly income should be at least 15,000, which will represent a stable income.\"\n",
      "}\n",
      "\u001b[36;1m\u001b[1;3m[chain/end]\u001b[0m \u001b[1m[1:chain:MapReduceDocumentsChain > 4:chain:StuffDocumentsChain] [7.44s] Exiting Chain run with output:\n",
      "\u001b[0m{\n",
      "  \"output_text\": \" \\n\\nThe speaker is discussing the interest rates and fees associated with credit cards and online loans, as well as the maximum credit limit. They suggest not using a credit card if it is more convenient and cost-effective, and suggest downloading an app to check the credit limit. They also discuss the safety of investing and the speed of uploading documents, as well as the need to update information and fill out forms. It is suggested that everyone can do it and that having a higher degree, such as a college degree, will help. The monthly income should be at least 15,000, which will represent a stable income.\"\n",
      "}\n",
      "\u001b[36;1m\u001b[1;3m[chain/end]\u001b[0m \u001b[1m[1:chain:MapReduceDocumentsChain] [22.00s] Exiting Chain run with output:\n",
      "\u001b[0m{\n",
      "  \"output_text\": \" \\n\\nThe speaker is discussing the interest rates and fees associated with credit cards and online loans, as well as the maximum credit limit. They suggest not using a credit card if it is more convenient and cost-effective, and suggest downloading an app to check the credit limit. They also discuss the safety of investing and the speed of uploading documents, as well as the need to update information and fill out forms. It is suggested that everyone can do it and that having a higher degree, such as a college degree, will help. The monthly income should be at least 15,000, which will represent a stable income.\"\n",
      "}\n"
     ]
    },
    {
     "data": {
      "text/plain": [
       "' \\n\\nThe speaker is discussing the interest rates and fees associated with credit cards and online loans, as well as the maximum credit limit. They suggest not using a credit card if it is more convenient and cost-effective, and suggest downloading an app to check the credit limit. They also discuss the safety of investing and the speed of uploading documents, as well as the need to update information and fill out forms. It is suggested that everyone can do it and that having a higher degree, such as a college degree, will help. The monthly income should be at least 15,000, which will represent a stable income.'"
      ]
     },
     "execution_count": 33,
     "metadata": {},
     "output_type": "execute_result"
    }
   ],
   "source": [
    "from langchain.chains.summarize import load_summarize_chain\n",
    "\n",
    "# There is a lot of complexity hidden in this one line. I encourage you to check out the video above for more detail\n",
    "chain = load_summarize_chain(llm, chain_type=\"map_reduce\", verbose=False)\n",
    "chain.run(texts)"
   ]
  },
  {
   "attachments": {},
   "cell_type": "markdown",
   "metadata": {},
   "source": [
    "##### Retrievers"
   ]
  },
  {
   "cell_type": "code",
   "execution_count": 24,
   "metadata": {},
   "outputs": [],
   "source": [
    "from langchain.vectorstores import FAISS\n",
    "from langchain.embeddings import OpenAIEmbeddings\n",
    "\n",
    "# The LangChain component we'll use to get the documents\n",
    "from langchain.chains import RetrievalQA\n",
    "\n",
    "# Get embedding engine ready\n",
    "embeddings = OpenAIEmbeddings(openai_api_key=openai_api_key)\n",
    "\n",
    "# Embedd your texts\n",
    "docsearch = FAISS.from_documents(texts, embeddings)\n",
    "\n",
    "qa = RetrievalQA.from_chain_type(llm=llm, chain_type=\"stuff\", retriever=docsearch.as_retriever())"
   ]
  },
  {
   "cell_type": "code",
   "execution_count": 32,
   "metadata": {},
   "outputs": [
    {
     "data": {
      "text/plain": [
       "' 月收入的话是1万。'"
      ]
     },
     "execution_count": 32,
     "metadata": {},
     "output_type": "execute_result"
    }
   ],
   "source": [
    "query = \"用户的收入是多少?\"\n",
    "qa.run(query)"
   ]
  },
  {
   "cell_type": "code",
   "execution_count": 25,
   "metadata": {},
   "outputs": [
    {
     "data": {
      "text/plain": [
       "' 这段对话里有两个角色：一个是提问者，另一个是回答者。'"
      ]
     },
     "execution_count": 25,
     "metadata": {},
     "output_type": "execute_result"
    }
   ],
   "source": [
    "query = \"这段对话里有哪几个角色?\"\n",
    "qa.run(query)"
   ]
  },
  {
   "attachments": {},
   "cell_type": "markdown",
   "metadata": {},
   "source": [
    "### Agent"
   ]
  },
  {
   "attachments": {},
   "cell_type": "markdown",
   "metadata": {},
   "source": [
    "#### Manual ReACT"
   ]
  },
  {
   "attachments": {},
   "cell_type": "markdown",
   "metadata": {},
   "source": [
    "![diagram](https://raw.githubusercontent.com/quboqin/images/main/blogs/picturesdiagram.png)"
   ]
  },
  {
   "cell_type": "code",
   "execution_count": 26,
   "metadata": {},
   "outputs": [
    {
     "name": "stdout",
     "output_type": "stream",
     "text": [
      "\n",
      "Thought: I need to search the president of the United States, find their age, and answer the question.\n",
      "Action: Search[president of the United States]\n",
      "Observation: Joe Biden is the 46th and current president of the United States.\n",
      "Thought: Joe Biden is the president of the United States. I need to search Joe Biden and find his age.\n",
      "Action: Search[Joe Biden]\n",
      "Observation: Joseph Robinette Biden Jr. (born November 20, 1942) is an American politician who is the 46th and current president of the United States.\n",
      "Thought: Joe Biden was born in 1942, so he is 78 years old.\n",
      "Action: Finish[78 years old]\n"
     ]
    }
   ],
   "source": [
    "question = \"How old is the president of the United States?\"\n",
    "\n",
    "manual_react = f\"\"\"Question: What is the elevation range for the area that the eastern sector of the Colorado orogeny extends into?\n",
    "Thought: I need to search Colorado orogeny, find the area that the eastern sector of the Colorado orogeny extends into, then find the elevation range of the area.\n",
    "Action: Search[Colorado orogeny]\n",
    "Observation: The Colorado orogeny was an episode of mountain building (an orogeny) in Colorado and surrounding areas.\n",
    "Thought: It does not mention the eastern sector. So I need to look up eastern sector.\n",
    "Action: Lookup[eastern sector]\n",
    "Observation: (Result 1 / 1) The eastern sector extends into the High Plains and is called the Central Plains orogeny.\n",
    "Thought: The eastern sector of Colorado orogeny extends into the High Plains. So I need to search High Plains and find its elevation range.\n",
    "Action: Search[High Plains]\n",
    "Observation: High Plains refers to one of two distinct land regions\n",
    "Thought: I need to instead search High Plains (United States).\n",
    "Action: Search[High Plains (United States)]\n",
    "Observation: The High Plains are a subregion of the Great Plains. From east to west, the High Plains rise in elevation from around 1,800 to 7,000 ft (550 to 2,130 m).[3]\n",
    "Thought: High Plains rise in elevation from around 1,800 to 7,000 ft, so the answer is 1,800 to 7,000 ft.\n",
    "Action: Finish[1,800 to 7,000 ft]\n",
    "\n",
    "Question: Musician and satirist Allie Goertz wrote a song about the \"The Simpsons\" character Milhouse, who Matt Groening named after who?\n",
    "Thought: The question simplifies to \"The Simpsons\" character Milhouse is named after who. I only need to search Milhouse and find who it is named after.\n",
    "Action: Search[Milhouse]\n",
    "Observation: Milhouse Mussolini Van Houten is a recurring character in the Fox animated television series The Simpsons voiced by Pamela Hayden and created by Matt Groening.\n",
    "Thought: The paragraph does not tell who Milhouse is named after, maybe I can look up \"named after\".\n",
    "Action: Lookup[named after]\n",
    "Observation: (Result 1 / 1) Milhouse was named after U.S. president Richard Nixon, whose middle name was Milhous.\n",
    "Thought: Milhouse was named after U.S. president Richard Nixon, so the answer is Richard Nixon.\n",
    "Action: Finish[Richard Nixon]\n",
    "\n",
    "Question: Which documentary is about Finnish rock groups, Adam Clayton Powell or The Saimaa Gesture?\n",
    "Thought: I need to search Adam Clayton Powell and The Saimaa Gesture, and find which documentary is about Finnish rock groups.\n",
    "Action: Search[Adam Clayton Powell]\n",
    "Observation: Could not find [Adam Clayton Powell]. Similar: [’Adam Clayton Powell III’, ’Seventh Avenue (Manhattan)’, ’Adam Clayton Powell Jr. State Office Building’, ’Isabel Washington Powell’, ’Adam Powell’, ’Adam Clayton Powell (film)’, ’Giancarlo Esposito’].\n",
    "Thought: To find the documentary, I can search Adam Clayton Powell (film).\n",
    "Action: Search[Adam Clayton Powell (film)]\n",
    "Observation: Adam Clayton Powell is a 1989 American documentary film directed by Richard Kilberg. The film is about the rise and fall of influential African-American politician Adam Clayton Powell Jr.[3][4] It was later aired as part of the PBS series The American Experience.\n",
    "Thought: Adam Clayton Powell (film) is a documentary about an African-American politician, not Finnish rock groups. So the documentary about Finnish rock groups must instead be The Saimaa Gesture.\n",
    "Action: Finish[The Saimaa Gesture]\n",
    "\n",
    "Question: What profession does Nicholas Ray and Elia Kazan have in common?\n",
    "Thought: I need to search Nicholas Ray and Elia Kazan, find their professions, then find the profession they have in common.\n",
    "Action: Search[Nicholas Ray]\n",
    "Observation: Nicholas Ray (born Raymond Nicholas Kienzle Jr., August 7, 1911 - June 16, 1979) was an American film director, screenwriter, and actor best known for the 1955 film Rebel Without a Cause.\n",
    "Thought: Professions of Nicholas Ray are director, screenwriter, and actor. I need to search Elia Kazan next and find his professions.\n",
    "Action: Search[Elia Kazan]\n",
    "Observation: Elia Kazan was an American film and theatre director, producer, screenwriter and actor.\n",
    "Thought: Professions of Elia Kazan are director, producer, screenwriter, and actor. So profession Nicholas Ray and Elia Kazan have in common is director, screenwriter, and actor.\n",
    "Action: Finish[director, screenwriter, actor]\n",
    "\n",
    "Question: Which magazine was started first Arthur’s Magazine or First for Women?\n",
    "Thought: I need to search Arthur’s Magazine and First for Women, and find which was started first.\n",
    "Action: Search[Arthur’s Magazine]\n",
    "Observation: Arthur’s Magazine (1844-1846) was an American literary periodical published in Philadelphia in the 19th century.\n",
    "Thought: Arthur’s Magazine was started in 1844. I need to search First for Women next.\n",
    "Action: Search[First for Women]\n",
    "Observation: First for Women is a woman’s magazine published by Bauer Media Group in the USA.[1] The magazine was started in 1989.\n",
    "Thought: First for Women was started in 1989. 1844 (Arthur’s Magazine) < 1989 (First for Women), so Arthur’s Magazine was started first.\n",
    "Action: Finish[Arthur’s Magazine]\n",
    "\n",
    "Question:{question}\"\"\"\n",
    "\n",
    "print(llm(manual_react))"
   ]
  },
  {
   "attachments": {},
   "cell_type": "markdown",
   "metadata": {},
   "source": [
    "#### ReAct\n",
    "![image-20230406213322739](https://raw.githubusercontent.com/quboqin/images/main/blogs/picturesimage-20230406213322739.png)"
   ]
  },
  {
   "cell_type": "code",
   "execution_count": 27,
   "metadata": {},
   "outputs": [],
   "source": [
    "import langchain\n",
    "\n",
    "langchain.debug = True\n",
    "\n",
    "from langchain import OpenAI, Wikipedia\n",
    "from langchain.agents import initialize_agent, Tool\n",
    "from langchain.agents import AgentType\n",
    "from langchain.agents.react.base import DocstoreExplorer"
   ]
  },
  {
   "cell_type": "code",
   "execution_count": 28,
   "metadata": {},
   "outputs": [],
   "source": [
    "docstore=DocstoreExplorer(Wikipedia())\n",
    "\n",
    "tools = [\n",
    "    Tool(\n",
    "        name=\"Search\",\n",
    "        func=docstore.search,\n",
    "        description=\"useful for when you need to ask with search\"\n",
    "    ),\n",
    "    Tool(\n",
    "        name=\"Lookup\",\n",
    "        func=docstore.lookup,\n",
    "        description=\"useful for when you need to ask with lookup\"\n",
    "    )\n",
    "]\n",
    "\n",
    "llm = OpenAI(temperature=0, model_name=\"text-davinci-003\")\n",
    "\n",
    "\n",
    "react = initialize_agent(tools, llm, agent=AgentType.REACT_DOCSTORE, verbose=True)"
   ]
  },
  {
   "cell_type": "code",
   "execution_count": 29,
   "metadata": {},
   "outputs": [
    {
     "name": "stdout",
     "output_type": "stream",
     "text": [
      "\u001b[32;1m\u001b[1;3m[chain/start]\u001b[0m \u001b[1m[1:chain:AgentExecutor] Entering Chain run with input:\n",
      "\u001b[0m{\n",
      "  \"input\": \"How old is the company that makes the iPhone? The year is 2023\"\n",
      "}\n",
      "\u001b[32;1m\u001b[1;3m[chain/start]\u001b[0m \u001b[1m[1:chain:AgentExecutor > 2:chain:LLMChain] Entering Chain run with input:\n",
      "\u001b[0m{\n",
      "  \"input\": \"How old is the company that makes the iPhone? The year is 2023\",\n",
      "  \"agent_scratchpad\": \"\",\n",
      "  \"stop\": [\n",
      "    \"\\nObservation:\"\n",
      "  ]\n",
      "}\n",
      "\u001b[32;1m\u001b[1;3m[llm/start]\u001b[0m \u001b[1m[1:chain:AgentExecutor > 2:chain:LLMChain > 3:llm:OpenAI] Entering LLM run with input:\n",
      "\u001b[0m{\n",
      "  \"prompts\": [\n",
      "    \"Question: What is the elevation range for the area that the eastern sector of the Colorado orogeny extends into?\\nThought: I need to search Colorado orogeny, find the area that the eastern sector of the Colorado orogeny extends into, then find the elevation range of the area.\\nAction: Search[Colorado orogeny]\\nObservation: The Colorado orogeny was an episode of mountain building (an orogeny) in Colorado and surrounding areas.\\nThought: It does not mention the eastern sector. So I need to look up eastern sector.\\nAction: Lookup[eastern sector]\\nObservation: (Result 1 / 1) The eastern sector extends into the High Plains and is called the Central Plains orogeny.\\nThought: The eastern sector of Colorado orogeny extends into the High Plains. So I need to search High Plains and find its elevation range.\\nAction: Search[High Plains]\\nObservation: High Plains refers to one of two distinct land regions\\nThought: I need to instead search High Plains (United States).\\nAction: Search[High Plains (United States)]\\nObservation: The High Plains are a subregion of the Great Plains. From east to west, the High Plains rise in elevation from around 1,800 to 7,000 ft (550 to 2,130 m).[3]\\nThought: High Plains rise in elevation from around 1,800 to 7,000 ft, so the answer is 1,800 to 7,000 ft.\\nAction: Finish[1,800 to 7,000 ft]\\n\\nQuestion: Musician and satirist Allie Goertz wrote a song about the \\\"The Simpsons\\\" character Milhouse, who Matt Groening named after who?\\nThought: The question simplifies to \\\"The Simpsons\\\" character Milhouse is named after who. I only need to search Milhouse and find who it is named after.\\nAction: Search[Milhouse]\\nObservation: Milhouse Mussolini Van Houten is a recurring character in the Fox animated television series The Simpsons voiced by Pamela Hayden and created by Matt Groening.\\nThought: The paragraph does not tell who Milhouse is named after, maybe I can look up \\\"named after\\\".\\nAction: Lookup[named after]\\nObservation: (Result 1 / 1) Milhouse was named after U.S. president Richard Nixon, whose middle name was Milhous.\\nThought: Milhouse was named after U.S. president Richard Nixon, so the answer is Richard Nixon.\\nAction: Finish[Richard Nixon]\\n\\nQuestion: Which documentary is about Finnish rock groups, Adam Clayton Powell or The Saimaa Gesture?\\nThought: I need to search Adam Clayton Powell and The Saimaa Gesture, and find which documentary is about Finnish rock groups.\\nAction: Search[Adam Clayton Powell]\\nObservation: Could not find [Adam Clayton Powell]. Similar: [\\u2019Adam Clayton Powell III\\u2019, \\u2019Seventh Avenue (Manhattan)\\u2019, \\u2019Adam Clayton Powell Jr. State Office Building\\u2019, \\u2019Isabel Washington Powell\\u2019, \\u2019Adam Powell\\u2019, \\u2019Adam Clayton Powell (film)\\u2019, \\u2019Giancarlo Esposito\\u2019].\\nThought: To find the documentary, I can search Adam Clayton Powell (film).\\nAction: Search[Adam Clayton Powell (film)]\\nObservation: Adam Clayton Powell is a 1989 American documentary film directed by Richard Kilberg. The film is about the rise and fall of influential African-American politician Adam Clayton Powell Jr.[3][4] It was later aired as part of the PBS series The American Experience.\\nThought: Adam Clayton Powell (film) is a documentary about an African-American politician, not Finnish rock groups. So the documentary about Finnish rock groups must instead be The Saimaa Gesture.\\nAction: Finish[The Saimaa Gesture]\\n\\nQuestion: What profession does Nicholas Ray and Elia Kazan have in common?\\nThought: I need to search Nicholas Ray and Elia Kazan, find their professions, then find the profession they have in common.\\nAction: Search[Nicholas Ray]\\nObservation: Nicholas Ray (born Raymond Nicholas Kienzle Jr., August 7, 1911 - June 16, 1979) was an American film director, screenwriter, and actor best known for the 1955 film Rebel Without a Cause.\\nThought: Professions of Nicholas Ray are director, screenwriter, and actor. I need to search Elia Kazan next and find his professions.\\nAction: Search[Elia Kazan]\\nObservation: Elia Kazan was an American film and theatre director, producer, screenwriter and actor.\\nThought: Professions of Elia Kazan are director, producer, screenwriter, and actor. So profession Nicholas Ray and Elia Kazan have in common is director, screenwriter, and actor.\\nAction: Finish[director, screenwriter, actor]\\n\\nQuestion: Which magazine was started first Arthur\\u2019s Magazine or First for Women?\\nThought: I need to search Arthur\\u2019s Magazine and First for Women, and find which was started first.\\nAction: Search[Arthur\\u2019s Magazine]\\nObservation: Arthur\\u2019s Magazine (1844-1846) was an American literary periodical published in Philadelphia in the 19th century.\\nThought: Arthur\\u2019s Magazine was started in 1844. I need to search First for Women next.\\nAction: Search[First for Women]\\nObservation: First for Women is a woman\\u2019s magazine published by Bauer Media Group in the USA.[1] The magazine was started in 1989.\\nThought: First for Women was started in 1989. 1844 (Arthur\\u2019s Magazine) < 1989 (First for Women), so Arthur\\u2019s Magazine was started first.\\nAction: Finish[Arthur\\u2019s Magazine]\\n\\nQuestion: Were Pavel Urysohn and Leonid Levin known for the same type of work?\\nThought: I need to search Pavel Urysohn and Leonid Levin, find their types of work, then find if they are the same.\\nAction: Search[Pavel Urysohn]\\nObservation: Pavel Samuilovich Urysohn (February 3, 1898 - August 17, 1924) was a Soviet mathematician who is best known for his contributions in dimension theory.\\nThought: Pavel Urysohn is a mathematician. I need to search Leonid Levin next and find its type of work.\\nAction: Search[Leonid Levin]\\nObservation: Leonid Anatolievich Levin is a Soviet-American mathematician and computer scientist.\\nThought: Leonid Levin is a mathematician and computer scientist. So Pavel Urysohn and Leonid Levin have the same type of work.\\nAction: Finish[yes]\\n\\n\\nQuestion: How old is the company that makes the iPhone? The year is 2023\"\n",
      "  ]\n",
      "}\n",
      "\u001b[36;1m\u001b[1;3m[llm/end]\u001b[0m \u001b[1m[1:chain:AgentExecutor > 2:chain:LLMChain > 3:llm:OpenAI] [5.71s] Exiting LLM run with output:\n",
      "\u001b[0m{\n",
      "  \"generations\": [\n",
      "    [\n",
      "      {\n",
      "        \"text\": \"Thought: I need to search the company that makes the iPhone, find its age, then calculate the age in 2023.\\nAction: Search[company that makes the iPhone]\",\n",
      "        \"generation_info\": {\n",
      "          \"finish_reason\": \"stop\",\n",
      "          \"logprobs\": null\n",
      "        }\n",
      "      }\n",
      "    ]\n",
      "  ],\n",
      "  \"llm_output\": {\n",
      "    \"token_usage\": {\n",
      "      \"total_tokens\": 1513,\n",
      "      \"prompt_tokens\": 1476,\n",
      "      \"completion_tokens\": 37\n",
      "    },\n",
      "    \"model_name\": \"text-davinci-003\"\n",
      "  }\n",
      "}\n",
      "\u001b[36;1m\u001b[1;3m[chain/end]\u001b[0m \u001b[1m[1:chain:AgentExecutor > 2:chain:LLMChain] [5.71s] Exiting Chain run with output:\n",
      "\u001b[0m{\n",
      "  \"text\": \"Thought: I need to search the company that makes the iPhone, find its age, then calculate the age in 2023.\\nAction: Search[company that makes the iPhone]\"\n",
      "}\n",
      "\u001b[32;1m\u001b[1;3m[tool/start]\u001b[0m \u001b[1m[1:chain:AgentExecutor > 4:tool:Search] Entering Tool run with input:\n",
      "\u001b[0m\"company that makes the iPhone\"\n",
      "\u001b[36;1m\u001b[1;3m[tool/end]\u001b[0m \u001b[1m[1:chain:AgentExecutor > 4:tool:Search] [6.00s] Exiting Tool run with output:\n",
      "\u001b[0m\"iPhone is a line of smartphones produced by Apple Inc. that use Apple's own iOS mobile operating system. The first-generation iPhone was announced by then-Apple CEO Steve Jobs on January 9, 2007. Since then, Apple has annually released new iPhone models and iOS updates. As of November 1, 2018, more than 2.2 billion iPhones had been sold. As of 2022, the iPhone accounts for 15.6% of global smartphone market share.The iPhone was the first mobile phone to use multi-touch technology. Since the iPhone's launch, it gained larger screen sizes, video-recording, waterproofing, and many accessibility features. Up to iPhone 8 and 8 Plus, iPhones had a single button on the front panel with the Touch ID fingerprint sensor. Since iPhone X, iPhone models have switched to a nearly bezel-less front screen design with Face ID facial recognition, and app switching activated by gestures. Touch ID is still used for the budget iPhone SE series.\n",
      "The iPhone is one of the two largest smartphone platforms in the world alongside Android, and is a large part of the luxury market. The iPhone has generated large profits for Apple, making it one of the world's most valuable publicly traded companies. The first-generation iPhone was described as a \"revolution\" for the mobile phone industry and subsequent models have also garnered praise. The iPhone has been credited with popularizing the smartphone and slate form factor, and with creating a large market for smartphone apps, or \"app economy\". As of January 2017, Apple's App Store contained more than 2.2 million applications for the iPhone.\"\n",
      "\u001b[32;1m\u001b[1;3m[chain/start]\u001b[0m \u001b[1m[1:chain:AgentExecutor > 5:chain:LLMChain] Entering Chain run with input:\n",
      "\u001b[0m{\n",
      "  \"input\": \"How old is the company that makes the iPhone? The year is 2023\",\n",
      "  \"agent_scratchpad\": \"Thought: I need to search the company that makes the iPhone, find its age, then calculate the age in 2023.\\nAction: Search[company that makes the iPhone]\\nObservation: iPhone is a line of smartphones produced by Apple Inc. that use Apple's own iOS mobile operating system. The first-generation iPhone was announced by then-Apple CEO Steve Jobs on January 9, 2007. Since then, Apple has annually released new iPhone models and iOS updates. As of November 1, 2018, more than 2.2 billion iPhones had been sold. As of 2022, the iPhone accounts for 15.6% of global smartphone market share.The iPhone was the first mobile phone to use multi-touch technology. Since the iPhone's launch, it gained larger screen sizes, video-recording, waterproofing, and many accessibility features. Up to iPhone 8 and 8 Plus, iPhones had a single button on the front panel with the Touch ID fingerprint sensor. Since iPhone X, iPhone models have switched to a nearly bezel-less front screen design with Face ID facial recognition, and app switching activated by gestures. Touch ID is still used for the budget iPhone SE series.\\nThe iPhone is one of the two largest smartphone platforms in the world alongside Android, and is a large part of the luxury market. The iPhone has generated large profits for Apple, making it one of the world's most valuable publicly traded companies. The first-generation iPhone was described as a \\\"revolution\\\" for the mobile phone industry and subsequent models have also garnered praise. The iPhone has been credited with popularizing the smartphone and slate form factor, and with creating a large market for smartphone apps, or \\\"app economy\\\". As of January 2017, Apple's App Store contained more than 2.2 million applications for the iPhone.\\nThought:\",\n",
      "  \"stop\": [\n",
      "    \"\\nObservation:\"\n",
      "  ]\n",
      "}\n",
      "\u001b[32;1m\u001b[1;3m[llm/start]\u001b[0m \u001b[1m[1:chain:AgentExecutor > 5:chain:LLMChain > 6:llm:OpenAI] Entering LLM run with input:\n",
      "\u001b[0m{\n",
      "  \"prompts\": [\n",
      "    \"Question: What is the elevation range for the area that the eastern sector of the Colorado orogeny extends into?\\nThought: I need to search Colorado orogeny, find the area that the eastern sector of the Colorado orogeny extends into, then find the elevation range of the area.\\nAction: Search[Colorado orogeny]\\nObservation: The Colorado orogeny was an episode of mountain building (an orogeny) in Colorado and surrounding areas.\\nThought: It does not mention the eastern sector. So I need to look up eastern sector.\\nAction: Lookup[eastern sector]\\nObservation: (Result 1 / 1) The eastern sector extends into the High Plains and is called the Central Plains orogeny.\\nThought: The eastern sector of Colorado orogeny extends into the High Plains. So I need to search High Plains and find its elevation range.\\nAction: Search[High Plains]\\nObservation: High Plains refers to one of two distinct land regions\\nThought: I need to instead search High Plains (United States).\\nAction: Search[High Plains (United States)]\\nObservation: The High Plains are a subregion of the Great Plains. From east to west, the High Plains rise in elevation from around 1,800 to 7,000 ft (550 to 2,130 m).[3]\\nThought: High Plains rise in elevation from around 1,800 to 7,000 ft, so the answer is 1,800 to 7,000 ft.\\nAction: Finish[1,800 to 7,000 ft]\\n\\nQuestion: Musician and satirist Allie Goertz wrote a song about the \\\"The Simpsons\\\" character Milhouse, who Matt Groening named after who?\\nThought: The question simplifies to \\\"The Simpsons\\\" character Milhouse is named after who. I only need to search Milhouse and find who it is named after.\\nAction: Search[Milhouse]\\nObservation: Milhouse Mussolini Van Houten is a recurring character in the Fox animated television series The Simpsons voiced by Pamela Hayden and created by Matt Groening.\\nThought: The paragraph does not tell who Milhouse is named after, maybe I can look up \\\"named after\\\".\\nAction: Lookup[named after]\\nObservation: (Result 1 / 1) Milhouse was named after U.S. president Richard Nixon, whose middle name was Milhous.\\nThought: Milhouse was named after U.S. president Richard Nixon, so the answer is Richard Nixon.\\nAction: Finish[Richard Nixon]\\n\\nQuestion: Which documentary is about Finnish rock groups, Adam Clayton Powell or The Saimaa Gesture?\\nThought: I need to search Adam Clayton Powell and The Saimaa Gesture, and find which documentary is about Finnish rock groups.\\nAction: Search[Adam Clayton Powell]\\nObservation: Could not find [Adam Clayton Powell]. Similar: [\\u2019Adam Clayton Powell III\\u2019, \\u2019Seventh Avenue (Manhattan)\\u2019, \\u2019Adam Clayton Powell Jr. State Office Building\\u2019, \\u2019Isabel Washington Powell\\u2019, \\u2019Adam Powell\\u2019, \\u2019Adam Clayton Powell (film)\\u2019, \\u2019Giancarlo Esposito\\u2019].\\nThought: To find the documentary, I can search Adam Clayton Powell (film).\\nAction: Search[Adam Clayton Powell (film)]\\nObservation: Adam Clayton Powell is a 1989 American documentary film directed by Richard Kilberg. The film is about the rise and fall of influential African-American politician Adam Clayton Powell Jr.[3][4] It was later aired as part of the PBS series The American Experience.\\nThought: Adam Clayton Powell (film) is a documentary about an African-American politician, not Finnish rock groups. So the documentary about Finnish rock groups must instead be The Saimaa Gesture.\\nAction: Finish[The Saimaa Gesture]\\n\\nQuestion: What profession does Nicholas Ray and Elia Kazan have in common?\\nThought: I need to search Nicholas Ray and Elia Kazan, find their professions, then find the profession they have in common.\\nAction: Search[Nicholas Ray]\\nObservation: Nicholas Ray (born Raymond Nicholas Kienzle Jr., August 7, 1911 - June 16, 1979) was an American film director, screenwriter, and actor best known for the 1955 film Rebel Without a Cause.\\nThought: Professions of Nicholas Ray are director, screenwriter, and actor. I need to search Elia Kazan next and find his professions.\\nAction: Search[Elia Kazan]\\nObservation: Elia Kazan was an American film and theatre director, producer, screenwriter and actor.\\nThought: Professions of Elia Kazan are director, producer, screenwriter, and actor. So profession Nicholas Ray and Elia Kazan have in common is director, screenwriter, and actor.\\nAction: Finish[director, screenwriter, actor]\\n\\nQuestion: Which magazine was started first Arthur\\u2019s Magazine or First for Women?\\nThought: I need to search Arthur\\u2019s Magazine and First for Women, and find which was started first.\\nAction: Search[Arthur\\u2019s Magazine]\\nObservation: Arthur\\u2019s Magazine (1844-1846) was an American literary periodical published in Philadelphia in the 19th century.\\nThought: Arthur\\u2019s Magazine was started in 1844. I need to search First for Women next.\\nAction: Search[First for Women]\\nObservation: First for Women is a woman\\u2019s magazine published by Bauer Media Group in the USA.[1] The magazine was started in 1989.\\nThought: First for Women was started in 1989. 1844 (Arthur\\u2019s Magazine) < 1989 (First for Women), so Arthur\\u2019s Magazine was started first.\\nAction: Finish[Arthur\\u2019s Magazine]\\n\\nQuestion: Were Pavel Urysohn and Leonid Levin known for the same type of work?\\nThought: I need to search Pavel Urysohn and Leonid Levin, find their types of work, then find if they are the same.\\nAction: Search[Pavel Urysohn]\\nObservation: Pavel Samuilovich Urysohn (February 3, 1898 - August 17, 1924) was a Soviet mathematician who is best known for his contributions in dimension theory.\\nThought: Pavel Urysohn is a mathematician. I need to search Leonid Levin next and find its type of work.\\nAction: Search[Leonid Levin]\\nObservation: Leonid Anatolievich Levin is a Soviet-American mathematician and computer scientist.\\nThought: Leonid Levin is a mathematician and computer scientist. So Pavel Urysohn and Leonid Levin have the same type of work.\\nAction: Finish[yes]\\n\\n\\nQuestion: How old is the company that makes the iPhone? The year is 2023\\nThought: I need to search the company that makes the iPhone, find its age, then calculate the age in 2023.\\nAction: Search[company that makes the iPhone]\\nObservation: iPhone is a line of smartphones produced by Apple Inc. that use Apple's own iOS mobile operating system. The first-generation iPhone was announced by then-Apple CEO Steve Jobs on January 9, 2007. Since then, Apple has annually released new iPhone models and iOS updates. As of November 1, 2018, more than 2.2 billion iPhones had been sold. As of 2022, the iPhone accounts for 15.6% of global smartphone market share.The iPhone was the first mobile phone to use multi-touch technology. Since the iPhone's launch, it gained larger screen sizes, video-recording, waterproofing, and many accessibility features. Up to iPhone 8 and 8 Plus, iPhones had a single button on the front panel with the Touch ID fingerprint sensor. Since iPhone X, iPhone models have switched to a nearly bezel-less front screen design with Face ID facial recognition, and app switching activated by gestures. Touch ID is still used for the budget iPhone SE series.\\nThe iPhone is one of the two largest smartphone platforms in the world alongside Android, and is a large part of the luxury market. The iPhone has generated large profits for Apple, making it one of the world's most valuable publicly traded companies. The first-generation iPhone was described as a \\\"revolution\\\" for the mobile phone industry and subsequent models have also garnered praise. The iPhone has been credited with popularizing the smartphone and slate form factor, and with creating a large market for smartphone apps, or \\\"app economy\\\". As of January 2017, Apple's App Store contained more than 2.2 million applications for the iPhone.\\nThought:\"\n",
      "  ]\n",
      "}\n",
      "\u001b[36;1m\u001b[1;3m[llm/end]\u001b[0m \u001b[1m[1:chain:AgentExecutor > 5:chain:LLMChain > 6:llm:OpenAI] [3.13s] Exiting LLM run with output:\n",
      "\u001b[0m{\n",
      "  \"generations\": [\n",
      "    [\n",
      "      {\n",
      "        \"text\": \" Apple Inc. was founded in 1976, so in 2023 it will be 47 years old.\\nAction: Finish[47 years old]\",\n",
      "        \"generation_info\": {\n",
      "          \"finish_reason\": \"stop\",\n",
      "          \"logprobs\": null\n",
      "        }\n",
      "      }\n",
      "    ]\n",
      "  ],\n",
      "  \"llm_output\": {\n",
      "    \"token_usage\": {\n",
      "      \"total_tokens\": 1871,\n",
      "      \"prompt_tokens\": 1843,\n",
      "      \"completion_tokens\": 28\n",
      "    },\n",
      "    \"model_name\": \"text-davinci-003\"\n",
      "  }\n",
      "}\n",
      "\u001b[36;1m\u001b[1;3m[chain/end]\u001b[0m \u001b[1m[1:chain:AgentExecutor > 5:chain:LLMChain] [3.13s] Exiting Chain run with output:\n",
      "\u001b[0m{\n",
      "  \"text\": \" Apple Inc. was founded in 1976, so in 2023 it will be 47 years old.\\nAction: Finish[47 years old]\"\n",
      "}\n",
      "\u001b[36;1m\u001b[1;3m[chain/end]\u001b[0m \u001b[1m[1:chain:AgentExecutor] [14.84s] Exiting Chain run with output:\n",
      "\u001b[0m{\n",
      "  \"output\": \"47 years old\"\n",
      "}\n"
     ]
    },
    {
     "data": {
      "text/plain": [
       "'47 years old'"
      ]
     },
     "execution_count": 29,
     "metadata": {},
     "output_type": "execute_result"
    }
   ],
   "source": [
    "question = \"How old is the company that makes the iPhone? The year is 2023\"\n",
    "react.run(question)"
   ]
  },
  {
   "attachments": {},
   "cell_type": "markdown",
   "metadata": {},
   "source": [
    "### Wrap up\n",
    "目前存在的几个问题\n",
    "1. ReAct 要处理的 Token 太多, 且要多次调用 LLM\n",
    "这个可以参考 [最新ReWOO框架直指Auto-GPT和LangChain代理的冗杂性，提出轻量级LLM与工具的交互范式](https://mp.weixin.qq.com/s/8cEBOwUyG0zGlC74IuFNeg)\n",
    "2. 在构建知识库的时候, 我们PRD文档中, 有大量有价值的图, 需要大模型有多模态的能力\n",
    "3. 考虑知识产权的问题, 私有化部署 LLaMA 羊驼, 是否可以达到 openai 的能力"
   ]
  },
  {
   "attachments": {},
   "cell_type": "markdown",
   "metadata": {},
   "source": [
    "### 参考资料\n",
    "1. [ReAct: Synergizing Reasoning and Acting in Language Models](https://react-lm.github.io/)\n",
    "2. [Prompt Engineering Guide](https://www.promptingguide.ai/)\n",
    "3. [ChatGPT学习笔记](https://wqw547243068.github.io/chatgpt#%E6%95%B0%E5%AD%A6%E5%8E%9F%E7%90%86)\n",
    "4. [LangChain 中文入门教程](https://github.com/liaokongVFX/LangChain-Chinese-Getting-Started-Guide)\n",
    "5. [LangChain 官方文档](https://python.langchain.com/docs/get_started/introduction.html)"
   ]
  }
 ],
 "metadata": {
  "kernelspec": {
   "display_name": "Python 3",
   "language": "python",
   "name": "python3"
  },
  "language_info": {
   "codemirror_mode": {
    "name": "ipython",
    "version": 3
   },
   "file_extension": ".py",
   "mimetype": "text/x-python",
   "name": "python",
   "nbconvert_exporter": "python",
   "pygments_lexer": "ipython3",
   "version": "3.10.11"
  },
  "orig_nbformat": 4
 },
 "nbformat": 4,
 "nbformat_minor": 2
}
